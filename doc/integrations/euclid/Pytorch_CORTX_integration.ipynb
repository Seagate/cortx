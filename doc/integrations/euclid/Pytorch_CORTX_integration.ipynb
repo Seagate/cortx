{
  "nbformat": 4,
  "nbformat_minor": 0,
  "metadata": {
    "colab": {
      "name": "Pytorch CORTX integration.ipynb",
      "provenance": []
    },
    "kernelspec": {
      "name": "python3",
      "display_name": "Python 3"
    },
    "language_info": {
      "name": "python"
    }
  },
  "cells": [
    {
      "cell_type": "code",
      "metadata": {
        "colab": {
          "base_uri": "https://localhost:8080/"
        },
        "id": "SnQOQtttaUFM",
        "outputId": "dd4e1196-4e04-450a-ff8a-d97b9db193ff"
      },
      "source": [
        "from google.colab import drive\n",
        "\n",
        "drive.mount('/content/gdrive')"
      ],
      "execution_count": null,
      "outputs": [
        {
          "output_type": "stream",
          "text": [
            "Mounted at /content/gdrive\n"
          ],
          "name": "stdout"
        }
      ]
    },
    {
      "cell_type": "code",
      "metadata": {
        "colab": {
          "base_uri": "https://localhost:8080/"
        },
        "id": "vQzVxPGvL7me",
        "outputId": "6e6fdd8f-3b82-4d6c-cfb2-182ea031eac1"
      },
      "source": [
        "import requests\n",
        "\n",
        "list_of_files=requests.get('https://cortx.herokuapp.com/getFiles')\n",
        "print(list_of_files.content)"
      ],
      "execution_count": 2,
      "outputs": [
        {
          "output_type": "stream",
          "text": [
            "b'[{\"test.csv\":\"Tue, 27 Apr 2021 11:55:31 GMT\",\"train.csv\":\"Tue, 27 Apr 2021 11:55:42 GMT\"},200]\\n'\n"
          ],
          "name": "stdout"
        }
      ]
    },
    {
      "cell_type": "code",
      "metadata": {
        "colab": {
          "base_uri": "https://localhost:8080/"
        },
        "id": "qcdlwIdMabP_",
        "outputId": "f512cc91-86c2-408e-ed6f-9c4780b96e11"
      },
      "source": [
        "import requests\n",
        "\n",
        "response = requests.post('https://cortx.herokuapp.com/download',json={\"key\":\"test.csv\"})\n",
        "open('test.csv', 'wb').write(response.content)"
      ],
      "execution_count": 3,
      "outputs": [
        {
          "output_type": "execute_result",
          "data": {
            "text/plain": [
              "314666"
            ]
          },
          "metadata": {
            "tags": []
          },
          "execution_count": 3
        }
      ]
    },
    {
      "cell_type": "code",
      "metadata": {
        "colab": {
          "base_uri": "https://localhost:8080/"
        },
        "id": "PeVtm2miNveV",
        "outputId": "d611ab91-a756-4a3b-a37d-b434b99b9153"
      },
      "source": [
        "import requests\n",
        "\n",
        "response = requests.post('https://cortx.herokuapp.com/download',json={\"key\":\"train.csv\"})\n",
        "open('train.csv', 'wb').write(response.content)"
      ],
      "execution_count": 4,
      "outputs": [
        {
          "output_type": "execute_result",
          "data": {
            "text/plain": [
              "469156"
            ]
          },
          "metadata": {
            "tags": []
          },
          "execution_count": 4
        }
      ]
    },
    {
      "cell_type": "code",
      "metadata": {
        "id": "yO78dCZnbWsI"
      },
      "source": [
        "import numpy as np\n",
        "import torch\n",
        "import torch.nn as nn\n",
        "from torch.autograd import Variable\n",
        "import pandas as pd\n",
        "import torch.utils.data"
      ],
      "execution_count": 5,
      "outputs": []
    },
    {
      "cell_type": "code",
      "metadata": {
        "id": "vLwPpZr-a_6z"
      },
      "source": [
        "trainDataset = pd.read_csv(\"train.csv\", header=None)\n",
        "testDataset = pd.read_csv(\"test.csv\", header=None)\n",
        "\n",
        "inputSize = len(trainDataset.columns) -1\n",
        "hidden1Size = 128\n",
        "hidden2Size = 128\n",
        "numClasses = 2\n",
        "numEpoch = 100\n",
        "batchSize = 100\n",
        "learningRate = 0.001"
      ],
      "execution_count": 6,
      "outputs": []
    },
    {
      "cell_type": "code",
      "metadata": {
        "id": "1_l_oforOI1I"
      },
      "source": [
        "trainLoader = torch.utils.data.DataLoader(dataset=torch.tensor(trainDataset.values), batch_size=batchSize, shuffle=True)\n",
        "testLoader = torch.utils.data.DataLoader(dataset=torch.tensor(testDataset.values), batch_size=batchSize, shuffle=False)"
      ],
      "execution_count": 7,
      "outputs": []
    },
    {
      "cell_type": "code",
      "metadata": {
        "id": "SPB3Dh0wOOzR"
      },
      "source": [
        "\n",
        "class DeepNeuralNetwork(nn.Module):\n",
        "    def __init__(self, inputSize, hidden1Size, hidden2Size, numClasses):\n",
        "        super(DeepNeuralNetwork, self).__init__()\n",
        "        self.fc1 = nn.Linear(inputSize, hidden1Size)\n",
        "        self.relu1 = nn.ReLU()\n",
        "        self.fc2 = nn.Linear(hidden1Size, hidden2Size)\n",
        "        self.relu2 = nn.ReLU()\n",
        "        self.fc3 = nn.Linear(hidden1Size, numClasses)\n",
        "        self.logsm1 = nn.LogSoftmax(dim=1)\n",
        "        \n",
        "    def forward(self, x):\n",
        "        out = self.fc1(x)\n",
        "        out = self.relu1(out)\n",
        "        out = self.fc2(out)\n",
        "        out = self.relu2(out)\n",
        "        out = self.fc3(out)\n",
        "        out = self.logsm1(out)\n",
        "        return out"
      ],
      "execution_count": 8,
      "outputs": []
    },
    {
      "cell_type": "code",
      "metadata": {
        "id": "SWinh75mOQ1h"
      },
      "source": [
        "dnn = DeepNeuralNetwork(inputSize, hidden1Size, hidden2Size, numClasses)"
      ],
      "execution_count": 9,
      "outputs": []
    },
    {
      "cell_type": "code",
      "metadata": {
        "id": "1Y-r_YVzOSwt"
      },
      "source": [
        "lossFN = nn.NLLLoss()\n",
        "optimizer = torch.optim.Adam(dnn.parameters(), lr=learningRate)"
      ],
      "execution_count": 10,
      "outputs": []
    },
    {
      "cell_type": "code",
      "metadata": {
        "colab": {
          "base_uri": "https://localhost:8080/"
        },
        "id": "nveLxtSjOU0M",
        "outputId": "8347c2ba-f58f-4612-b085-0aa2f270f712"
      },
      "source": [
        "for epoch in range(0, numEpoch):\n",
        "    for i, data in enumerate(trainLoader,0):\n",
        "        labels = Variable(data[:,-1])\n",
        "        data = Variable(data[:,0:30].float())\n",
        "        optimizer.zero_grad()\n",
        "        outputs = dnn(data)\n",
        "        loss = lossFN(outputs, labels.long())\n",
        "        loss.backward()\n",
        "        optimizer.step() \n",
        "                                        \n",
        "    print('Epoch [%d/%d], Loss: %.4f'\n",
        "        %(epoch+1, numEpoch, loss.item()))"
      ],
      "execution_count": 11,
      "outputs": [
        {
          "output_type": "stream",
          "text": [
            "Epoch [1/100], Loss: 0.1715\n",
            "Epoch [2/100], Loss: 0.3463\n",
            "Epoch [3/100], Loss: 0.2728\n",
            "Epoch [4/100], Loss: 0.0429\n",
            "Epoch [5/100], Loss: 0.1495\n",
            "Epoch [6/100], Loss: 0.1283\n",
            "Epoch [7/100], Loss: 0.1240\n",
            "Epoch [8/100], Loss: 0.0590\n",
            "Epoch [9/100], Loss: 0.0857\n",
            "Epoch [10/100], Loss: 0.1107\n",
            "Epoch [11/100], Loss: 0.0480\n",
            "Epoch [12/100], Loss: 0.0422\n",
            "Epoch [13/100], Loss: 0.0109\n",
            "Epoch [14/100], Loss: 0.0101\n",
            "Epoch [15/100], Loss: 0.2054\n",
            "Epoch [16/100], Loss: 0.1209\n",
            "Epoch [17/100], Loss: 0.0828\n",
            "Epoch [18/100], Loss: 0.0154\n",
            "Epoch [19/100], Loss: 0.0215\n",
            "Epoch [20/100], Loss: 0.0820\n",
            "Epoch [21/100], Loss: 0.0510\n",
            "Epoch [22/100], Loss: 0.0646\n",
            "Epoch [23/100], Loss: 0.1136\n",
            "Epoch [24/100], Loss: 0.0016\n",
            "Epoch [25/100], Loss: 0.3145\n",
            "Epoch [26/100], Loss: 0.1865\n",
            "Epoch [27/100], Loss: 0.0330\n",
            "Epoch [28/100], Loss: 0.0387\n",
            "Epoch [29/100], Loss: 0.0220\n",
            "Epoch [30/100], Loss: 0.0212\n",
            "Epoch [31/100], Loss: 0.0121\n",
            "Epoch [32/100], Loss: 0.0055\n",
            "Epoch [33/100], Loss: 0.0043\n",
            "Epoch [34/100], Loss: 0.0025\n",
            "Epoch [35/100], Loss: 0.0558\n",
            "Epoch [36/100], Loss: 0.0004\n",
            "Epoch [37/100], Loss: 0.0001\n",
            "Epoch [38/100], Loss: 0.0060\n",
            "Epoch [39/100], Loss: 0.0646\n",
            "Epoch [40/100], Loss: 0.1415\n",
            "Epoch [41/100], Loss: 0.0009\n",
            "Epoch [42/100], Loss: 0.0203\n",
            "Epoch [43/100], Loss: 0.0142\n",
            "Epoch [44/100], Loss: 0.0645\n",
            "Epoch [45/100], Loss: 0.0609\n",
            "Epoch [46/100], Loss: 0.0335\n",
            "Epoch [47/100], Loss: 0.0070\n",
            "Epoch [48/100], Loss: 0.0510\n",
            "Epoch [49/100], Loss: 0.0081\n",
            "Epoch [50/100], Loss: 0.0018\n",
            "Epoch [51/100], Loss: 0.1258\n",
            "Epoch [52/100], Loss: 0.0808\n",
            "Epoch [53/100], Loss: 0.0003\n",
            "Epoch [54/100], Loss: 0.0713\n",
            "Epoch [55/100], Loss: 0.0199\n",
            "Epoch [56/100], Loss: 0.0338\n",
            "Epoch [57/100], Loss: 0.0522\n",
            "Epoch [58/100], Loss: 0.0128\n",
            "Epoch [59/100], Loss: 0.0009\n",
            "Epoch [60/100], Loss: 0.2341\n",
            "Epoch [61/100], Loss: 0.0037\n",
            "Epoch [62/100], Loss: 0.0005\n",
            "Epoch [63/100], Loss: 0.0001\n",
            "Epoch [64/100], Loss: 0.0534\n",
            "Epoch [65/100], Loss: 0.1101\n",
            "Epoch [66/100], Loss: 0.1907\n",
            "Epoch [67/100], Loss: 0.0219\n",
            "Epoch [68/100], Loss: 0.0341\n",
            "Epoch [69/100], Loss: 0.0531\n",
            "Epoch [70/100], Loss: 0.0014\n",
            "Epoch [71/100], Loss: 0.1006\n",
            "Epoch [72/100], Loss: 0.0003\n",
            "Epoch [73/100], Loss: 0.0287\n",
            "Epoch [74/100], Loss: 0.0385\n",
            "Epoch [75/100], Loss: 0.0360\n",
            "Epoch [76/100], Loss: 0.0048\n",
            "Epoch [77/100], Loss: 0.0018\n",
            "Epoch [78/100], Loss: 0.0117\n",
            "Epoch [79/100], Loss: 0.0001\n",
            "Epoch [80/100], Loss: 0.0000\n",
            "Epoch [81/100], Loss: 0.0811\n",
            "Epoch [82/100], Loss: 0.0637\n",
            "Epoch [83/100], Loss: 0.0006\n",
            "Epoch [84/100], Loss: 0.2052\n",
            "Epoch [85/100], Loss: 0.0005\n",
            "Epoch [86/100], Loss: 0.0810\n",
            "Epoch [87/100], Loss: 0.2522\n",
            "Epoch [88/100], Loss: 0.0006\n",
            "Epoch [89/100], Loss: 0.0020\n",
            "Epoch [90/100], Loss: 0.0008\n",
            "Epoch [91/100], Loss: 0.0980\n",
            "Epoch [92/100], Loss: 0.0197\n",
            "Epoch [93/100], Loss: 0.0247\n",
            "Epoch [94/100], Loss: 0.0323\n",
            "Epoch [95/100], Loss: 0.0054\n",
            "Epoch [96/100], Loss: 0.0007\n",
            "Epoch [97/100], Loss: 0.0011\n",
            "Epoch [98/100], Loss: 0.0001\n",
            "Epoch [99/100], Loss: 0.0010\n",
            "Epoch [100/100], Loss: 0.0048\n"
          ],
          "name": "stdout"
        }
      ]
    },
    {
      "cell_type": "code",
      "metadata": {
        "colab": {
          "base_uri": "https://localhost:8080/"
        },
        "id": "etABuuFAOXd8",
        "outputId": "b3eb3a1a-798d-46c9-f9ca-0e81a0f86b2c"
      },
      "source": [
        "\n",
        "correct = 0\n",
        "total = 0\n",
        "for data in testLoader:\n",
        "    labels = Variable(data[:,-1])\n",
        "    data = Variable(data[:,0:30].float()) \n",
        "    outputs = dnn(data)\n",
        "    _, predicted = torch.max(outputs.data, 1)  \n",
        "    total += labels.size(0)\n",
        "    correct += (predicted == labels.long()).sum()\n",
        "    \n",
        "print('Accuracy of the network on the data: %d %%' % (100 * correct / total))"
      ],
      "execution_count": 12,
      "outputs": [
        {
          "output_type": "stream",
          "text": [
            "Accuracy of the network on the data: 95 %\n"
          ],
          "name": "stdout"
        }
      ]
    },
    {
      "cell_type": "code",
      "metadata": {
        "id": "2s3KUE__OcWr"
      },
      "source": [
        ""
      ],
      "execution_count": null,
      "outputs": []
    }
  ]
}