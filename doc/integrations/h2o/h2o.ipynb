{
  "nbformat": 4,
  "nbformat_minor": 0,
  "metadata": {
    "colab": {
      "name": "h2o.ipynb",
      "provenance": []
    },
    "kernelspec": {
      "name": "python3",
      "display_name": "Python 3"
    },
    "language_info": {
      "name": "python"
    }
  },
  "cells": [
    {
      "cell_type": "markdown",
      "metadata": {
        "id": "hXk3dIwUY1fi"
      },
      "source": [
        "### Installating and importing h2o and boto3"
      ]
    },
    {
      "cell_type": "code",
      "metadata": {
        "id": "ap5dgDkoQPeX",
        "colab": {
          "base_uri": "https://localhost:8080/"
        },
        "outputId": "7aa0bd3a-7ca0-41bb-cf32-03c78f9d333b"
      },
      "source": [
        "!pip install h2o boto3"
      ],
      "execution_count": 1,
      "outputs": [
        {
          "output_type": "stream",
          "text": [
            "Requirement already satisfied: h2o in /usr/local/lib/python3.7/dist-packages (3.32.1.4)\n",
            "Requirement already satisfied: boto3 in /usr/local/lib/python3.7/dist-packages (1.18.11)\n",
            "Requirement already satisfied: future in /usr/local/lib/python3.7/dist-packages (from h2o) (0.16.0)\n",
            "Requirement already satisfied: tabulate in /usr/local/lib/python3.7/dist-packages (from h2o) (0.8.9)\n",
            "Requirement already satisfied: requests in /usr/local/lib/python3.7/dist-packages (from h2o) (2.23.0)\n",
            "Requirement already satisfied: colorama>=0.3.8 in /usr/local/lib/python3.7/dist-packages (from h2o) (0.4.4)\n",
            "Requirement already satisfied: s3transfer<0.6.0,>=0.5.0 in /usr/local/lib/python3.7/dist-packages (from boto3) (0.5.0)\n",
            "Requirement already satisfied: jmespath<1.0.0,>=0.7.1 in /usr/local/lib/python3.7/dist-packages (from boto3) (0.10.0)\n",
            "Requirement already satisfied: botocore<1.22.0,>=1.21.11 in /usr/local/lib/python3.7/dist-packages (from boto3) (1.21.11)\n",
            "Requirement already satisfied: urllib3<1.27,>=1.25.4 in /usr/local/lib/python3.7/dist-packages (from botocore<1.22.0,>=1.21.11->boto3) (1.25.11)\n",
            "Requirement already satisfied: python-dateutil<3.0.0,>=2.1 in /usr/local/lib/python3.7/dist-packages (from botocore<1.22.0,>=1.21.11->boto3) (2.8.1)\n",
            "Requirement already satisfied: six>=1.5 in /usr/local/lib/python3.7/dist-packages (from python-dateutil<3.0.0,>=2.1->botocore<1.22.0,>=1.21.11->boto3) (1.15.0)\n",
            "Requirement already satisfied: idna<3,>=2.5 in /usr/local/lib/python3.7/dist-packages (from requests->h2o) (2.10)\n",
            "Requirement already satisfied: chardet<4,>=3.0.2 in /usr/local/lib/python3.7/dist-packages (from requests->h2o) (3.0.4)\n",
            "Requirement already satisfied: certifi>=2017.4.17 in /usr/local/lib/python3.7/dist-packages (from requests->h2o) (2021.5.30)\n"
          ],
          "name": "stdout"
        }
      ]
    },
    {
      "cell_type": "code",
      "metadata": {
        "id": "4ndhGqSeXj8a"
      },
      "source": [
        "import boto3\n",
        "from h2o.automl import H2OAutoML\n",
        "import requests"
      ],
      "execution_count": 2,
      "outputs": []
    },
    {
      "cell_type": "code",
      "metadata": {
        "id": "FRfDoEg4Xx33"
      },
      "source": [
        "SECRET=\"AKIAtEpiGWUcQIelPRlD1Pi6xQ\"\n",
        "SECRETACCESS= \"YNV6xS8lXnCTGSy1x2vGkmGnmdJbZSapNXaSaRhK\"\n",
        "URL = \"http://uvo1mtax5lmyplwknci.vm.cld.sr\""
      ],
      "execution_count": 3,
      "outputs": []
    },
    {
      "cell_type": "markdown",
      "metadata": {
        "id": "4d1cYcgAY54W"
      },
      "source": [
        "### Uploading a file to CORTX using Boto3 \n",
        "\n",
        "This will allow H2O to download it via their s3 api later on\n"
      ]
    },
    {
      "cell_type": "code",
      "metadata": {
        "colab": {
          "base_uri": "https://localhost:8080/"
        },
        "id": "onBfG5EiUV_m",
        "outputId": "2124bb1a-0f29-4d4b-ac72-3716f7ff2df7"
      },
      "source": [
        "#Creating Session With Boto3.\n",
        "session = boto3.session.Session()\n",
        "\n",
        "s3_client = session.client(\n",
        "aws_access_key_id=SECRET,\n",
        "aws_secret_access_key=SECRETACCESS,\n",
        "endpoint_url=URL,\n",
        "use_ssl=False,service_name=\"s3\"\n",
        ")\n",
        "\n",
        "# Getting the data and placing it in Seagate CORTX before downloading it\n",
        "response = requests.get('https://github.com/h2oai/h2o-tutorials/raw/master/h2o-world-2017/automl/data/powerplant_output.csv')\n",
        "\n",
        "s3_client.put_object(Body=response.text,Bucket=\"testbucket\",Key=\"h2o.csv\")"
      ],
      "execution_count": 4,
      "outputs": [
        {
          "output_type": "execute_result",
          "data": {
            "text/plain": [
              "{'ETag': '\"07b88846413d438e3460b846526a1025\"',\n",
              " 'ResponseMetadata': {'HTTPHeaders': {'content-length': '0',\n",
              "   'content-type': 'text/plain',\n",
              "   'etag': '\"07b88846413d438e3460b846526a1025\"',\n",
              "   'server': 'SeagateS3',\n",
              "   'x-amz-request-id': '85ff666c-84bd-42c4-b02e-5f99c4df19a5'},\n",
              "  'HTTPStatusCode': 200,\n",
              "  'HostId': '',\n",
              "  'RequestId': '85ff666c-84bd-42c4-b02e-5f99c4df19a5',\n",
              "  'RetryAttempts': 0}}"
            ]
          },
          "metadata": {
            "tags": []
          },
          "execution_count": 4
        }
      ]
    },
    {
      "cell_type": "markdown",
      "metadata": {
        "id": "8sAHVxcrZCS2"
      },
      "source": [
        "### Running H2O\n",
        "\n",
        "Using data from CORTX Seagate\n",
        "\n",
        "Specific arguments parsing in order to utilise Seagate CORTX endpoints - this is important and cannot be skipped"
      ]
    },
    {
      "cell_type": "code",
      "metadata": {
        "colab": {
          "base_uri": "https://localhost:8080/",
          "height": 508
        },
        "id": "fokZxet3QNa7",
        "outputId": "79517798-3656-434b-b8d6-f328488e5ffb"
      },
      "source": [
        "with open(\"core-site.xml\",\"w\") as f:\n",
        "    f.write(f\"\"\"<property>\n",
        "  <name>fs.s3.awsAccessKeyId</name>\n",
        "  <value>{SECRET}</value>\n",
        "</property>\n",
        "\n",
        "<property>\n",
        "  <name>fs.s3.awsSecretAccessKey</name>\n",
        "  <value>{SECRETACCESS}</value>\n",
        "</property>\n",
        "\"\"\")\n",
        "    \n",
        "import h2o\n",
        "h2o.init(jvm_custom_args=[f\"-Dsys.ai.h2o.persist.s3.endPoint={URL}\",\"-Dsys.ai.h2o.persist.s3.enable.path.style=true\"],extra_classpath=[\"-hdfs_config core-site.xml\"])"
      ],
      "execution_count": 5,
      "outputs": [
        {
          "output_type": "stream",
          "text": [
            "Checking whether there is an H2O instance running at http://localhost:54321 ..... not found.\n",
            "Attempting to start a local H2O server...\n",
            "  Java Version: openjdk version \"11.0.11\" 2021-04-20; OpenJDK Runtime Environment (build 11.0.11+9-Ubuntu-0ubuntu2.18.04); OpenJDK 64-Bit Server VM (build 11.0.11+9-Ubuntu-0ubuntu2.18.04, mixed mode, sharing)\n",
            "  Starting server from /usr/local/lib/python3.7/dist-packages/h2o/backend/bin/h2o.jar\n",
            "  Ice root: /tmp/tmp_2c68edw\n",
            "  JVM stdout: /tmp/tmp_2c68edw/h2o_unknownUser_started_from_python.out\n",
            "  JVM stderr: /tmp/tmp_2c68edw/h2o_unknownUser_started_from_python.err\n",
            "  Server is running at http://127.0.0.1:54321\n",
            "Connecting to H2O server at http://127.0.0.1:54321 ... successful.\n"
          ],
          "name": "stdout"
        },
        {
          "output_type": "display_data",
          "data": {
            "text/html": [
              "<div style=\"overflow:auto\"><table style=\"width:50%\"><tr><td>H2O_cluster_uptime:</td>\n",
              "<td>02 secs</td></tr>\n",
              "<tr><td>H2O_cluster_timezone:</td>\n",
              "<td>Etc/UTC</td></tr>\n",
              "<tr><td>H2O_data_parsing_timezone:</td>\n",
              "<td>UTC</td></tr>\n",
              "<tr><td>H2O_cluster_version:</td>\n",
              "<td>3.32.1.4</td></tr>\n",
              "<tr><td>H2O_cluster_version_age:</td>\n",
              "<td>24 days </td></tr>\n",
              "<tr><td>H2O_cluster_name:</td>\n",
              "<td>H2O_from_python_unknownUser_jgk1bq</td></tr>\n",
              "<tr><td>H2O_cluster_total_nodes:</td>\n",
              "<td>1</td></tr>\n",
              "<tr><td>H2O_cluster_free_memory:</td>\n",
              "<td>3.172 Gb</td></tr>\n",
              "<tr><td>H2O_cluster_total_cores:</td>\n",
              "<td>2</td></tr>\n",
              "<tr><td>H2O_cluster_allowed_cores:</td>\n",
              "<td>2</td></tr>\n",
              "<tr><td>H2O_cluster_status:</td>\n",
              "<td>accepting new members, healthy</td></tr>\n",
              "<tr><td>H2O_connection_url:</td>\n",
              "<td>http://127.0.0.1:54321</td></tr>\n",
              "<tr><td>H2O_connection_proxy:</td>\n",
              "<td>{\"http\": null, \"https\": null}</td></tr>\n",
              "<tr><td>H2O_internal_security:</td>\n",
              "<td>False</td></tr>\n",
              "<tr><td>H2O_API_Extensions:</td>\n",
              "<td>Amazon S3, XGBoost, Algos, AutoML, Core V3, TargetEncoder, Core V4</td></tr>\n",
              "<tr><td>Python_version:</td>\n",
              "<td>3.7.11 final</td></tr></table></div>"
            ],
            "text/plain": [
              "--------------------------  ------------------------------------------------------------------\n",
              "H2O_cluster_uptime:         02 secs\n",
              "H2O_cluster_timezone:       Etc/UTC\n",
              "H2O_data_parsing_timezone:  UTC\n",
              "H2O_cluster_version:        3.32.1.4\n",
              "H2O_cluster_version_age:    24 days\n",
              "H2O_cluster_name:           H2O_from_python_unknownUser_jgk1bq\n",
              "H2O_cluster_total_nodes:    1\n",
              "H2O_cluster_free_memory:    3.172 Gb\n",
              "H2O_cluster_total_cores:    2\n",
              "H2O_cluster_allowed_cores:  2\n",
              "H2O_cluster_status:         accepting new members, healthy\n",
              "H2O_connection_url:         http://127.0.0.1:54321\n",
              "H2O_connection_proxy:       {\"http\": null, \"https\": null}\n",
              "H2O_internal_security:      False\n",
              "H2O_API_Extensions:         Amazon S3, XGBoost, Algos, AutoML, Core V3, TargetEncoder, Core V4\n",
              "Python_version:             3.7.11 final\n",
              "--------------------------  ------------------------------------------------------------------"
            ]
          },
          "metadata": {
            "tags": []
          }
        }
      ]
    },
    {
      "cell_type": "markdown",
      "metadata": {
        "id": "zSKF93d7YUla"
      },
      "source": [
        "Set s3 credentials for downloading from Seagate's CORTX"
      ]
    },
    {
      "cell_type": "code",
      "metadata": {
        "colab": {
          "base_uri": "https://localhost:8080/"
        },
        "id": "50JP0F72QORd",
        "outputId": "29a7f43b-6e02-483a-f1c9-ef6d3f892c5d"
      },
      "source": [
        "# Set s3 credentials\n",
        "from h2o.persist import set_s3_credentials\n",
        "set_s3_credentials(SECRET, SECRETACCESS)"
      ],
      "execution_count": 6,
      "outputs": [
        {
          "output_type": "stream",
          "text": [
            "Credentials successfully set.\n"
          ],
          "name": "stdout"
        }
      ]
    },
    {
      "cell_type": "code",
      "metadata": {
        "id": "WGb_aXlVXPZk",
        "colab": {
          "base_uri": "https://localhost:8080/"
        },
        "outputId": "84fe008e-7df8-43b6-e6d1-54a0ac66b6fb"
      },
      "source": [
        "# Load data into H2O from Seagate CORTX Server\n",
        "df = h2o.import_file(path = \"s3://testbucket/h2o.csv\")"
      ],
      "execution_count": 7,
      "outputs": [
        {
          "output_type": "stream",
          "text": [
            "Parse progress: |█████████████████████████████████████████████████████████| 100%\n"
          ],
          "name": "stdout"
        }
      ]
    },
    {
      "cell_type": "markdown",
      "metadata": {
        "id": "jC4lJaUqXPZk"
      },
      "source": [
        "The data has been fully downloaded at this point here - accessed directly from CORTX server via the s3 layer (\"s3://testbucket/h2o.csv\")\n",
        "\n",
        "The next few steps is utilising the data in H2O's AutoML pipelines to achieve State-of-the-art results on the dataset\n",
        "\n"
      ]
    },
    {
      "cell_type": "markdown",
      "metadata": {
        "id": "UUvtzVFIZVeh"
      },
      "source": [
        "### Running H2O's AutoML\n",
        "\n",
        "Let's take a look at the data."
      ]
    },
    {
      "cell_type": "code",
      "metadata": {
        "id": "MHhH-NK5XPZk",
        "colab": {
          "base_uri": "https://localhost:8080/",
          "height": 465
        },
        "outputId": "4d4949d7-0b61-48ed-d054-ebacebe4dd8e"
      },
      "source": [
        "df.describe()"
      ],
      "execution_count": 8,
      "outputs": [
        {
          "output_type": "stream",
          "text": [
            "Rows:9568\n",
            "Cols:5\n",
            "\n",
            "\n"
          ],
          "name": "stdout"
        },
        {
          "output_type": "display_data",
          "data": {
            "text/html": [
              "<table>\n",
              "<thead>\n",
              "<tr><th>       </th><th>TemperatureCelcius  </th><th>ExhaustVacuumHg   </th><th>AmbientPressureMillibar  </th><th>RelativeHumidity  </th><th>HourlyEnergyOutputMW  </th></tr>\n",
              "</thead>\n",
              "<tbody>\n",
              "<tr><td>type   </td><td>real                </td><td>real              </td><td>real                     </td><td>real              </td><td>real                  </td></tr>\n",
              "<tr><td>mins   </td><td>1.81                </td><td>25.36             </td><td>992.89                   </td><td>25.56             </td><td>420.26                </td></tr>\n",
              "<tr><td>mean   </td><td>19.651231187290957  </td><td>54.3058037207358  </td><td>1013.2590781772578       </td><td>73.30897784280936 </td><td>454.36500940635455    </td></tr>\n",
              "<tr><td>maxs   </td><td>37.11               </td><td>81.56             </td><td>1033.3                   </td><td>100.16            </td><td>495.76                </td></tr>\n",
              "<tr><td>sigma  </td><td>7.452473229611082   </td><td>12.707892998326807</td><td>5.93878370581162         </td><td>14.600268756728957</td><td>17.066994999803423    </td></tr>\n",
              "<tr><td>zeros  </td><td>0                   </td><td>0                 </td><td>0                        </td><td>0                 </td><td>0                     </td></tr>\n",
              "<tr><td>missing</td><td>0                   </td><td>0                 </td><td>0                        </td><td>0                 </td><td>0                     </td></tr>\n",
              "<tr><td>0      </td><td>14.96               </td><td>41.76             </td><td>1024.07                  </td><td>73.17             </td><td>463.26                </td></tr>\n",
              "<tr><td>1      </td><td>25.18               </td><td>62.96             </td><td>1020.04                  </td><td>59.08             </td><td>444.37                </td></tr>\n",
              "<tr><td>2      </td><td>5.11                </td><td>39.4              </td><td>1012.16                  </td><td>92.14             </td><td>488.56                </td></tr>\n",
              "<tr><td>3      </td><td>20.86               </td><td>57.32             </td><td>1010.24                  </td><td>76.64             </td><td>446.48                </td></tr>\n",
              "<tr><td>4      </td><td>10.82               </td><td>37.5              </td><td>1009.23                  </td><td>96.62             </td><td>473.9                 </td></tr>\n",
              "<tr><td>5      </td><td>26.27               </td><td>59.44             </td><td>1012.23                  </td><td>58.77             </td><td>443.67                </td></tr>\n",
              "<tr><td>6      </td><td>15.89               </td><td>43.96             </td><td>1014.02                  </td><td>75.24             </td><td>467.35                </td></tr>\n",
              "<tr><td>7      </td><td>9.48                </td><td>44.71             </td><td>1019.12                  </td><td>66.43             </td><td>478.42                </td></tr>\n",
              "<tr><td>8      </td><td>14.64               </td><td>45.0              </td><td>1021.78                  </td><td>41.25             </td><td>475.98                </td></tr>\n",
              "<tr><td>9      </td><td>11.74               </td><td>43.56             </td><td>1015.14                  </td><td>70.72             </td><td>477.5                 </td></tr>\n",
              "</tbody>\n",
              "</table>"
            ]
          },
          "metadata": {
            "tags": []
          }
        }
      ]
    },
    {
      "cell_type": "markdown",
      "metadata": {
        "id": "g4iw9j6OXPZl"
      },
      "source": [
        "Next, let's identify the response column and save the column name as `y`.  In this dataset, we will use all columns except the response as predictors, so we can skip setting the `x` argument explicitly."
      ]
    },
    {
      "cell_type": "code",
      "metadata": {
        "id": "gxWDjMCdXPZl"
      },
      "source": [
        "y = \"HourlyEnergyOutputMW\""
      ],
      "execution_count": 9,
      "outputs": []
    },
    {
      "cell_type": "markdown",
      "metadata": {
        "id": "fp9VpufgXPZl"
      },
      "source": [
        "Lastly, let's split the data into two frames, a `train` (80%) and a `test` frame (20%).  The `test` frame will be used to score the leaderboard and to demonstrate how to generate predictions using an AutoML leader model."
      ]
    },
    {
      "cell_type": "code",
      "metadata": {
        "id": "NeqKROebXPZl"
      },
      "source": [
        "splits = df.split_frame(ratios = [0.8], seed = 1)\n",
        "train = splits[0]\n",
        "test = splits[1]"
      ],
      "execution_count": 10,
      "outputs": []
    },
    {
      "cell_type": "markdown",
      "metadata": {
        "id": "3fJsnvsiXPZm"
      },
      "source": [
        "## Run AutoML \n",
        "\n",
        "Run AutoML, stopping after 60 seconds.  The `max_runtime_secs` argument provides a way to limit the AutoML run by time.  When using a time-limited stopping criterion, the number of models train will vary between runs.  If different hardware is used or even if the same machine is used but the available compute resources on that machine are not the same between runs, then AutoML may be able to train more models on one run vs another. \n",
        "\n",
        "The `test` frame is passed explicitly to the `leaderboard_frame` argument here, which means that instead of using cross-validated metrics, we use test set metrics for generating the leaderboard."
      ]
    },
    {
      "cell_type": "code",
      "metadata": {
        "id": "fa0-Ui4FXPZm",
        "colab": {
          "base_uri": "https://localhost:8080/"
        },
        "outputId": "10762777-2359-41c6-a06a-421c4b9caca7"
      },
      "source": [
        "aml = H2OAutoML(max_runtime_secs = 60, seed = 1, project_name = \"powerplant_lb_frame\")\n",
        "aml.train(y = y, training_frame = train, leaderboard_frame = test)"
      ],
      "execution_count": 11,
      "outputs": [
        {
          "output_type": "stream",
          "text": [
            "AutoML progress: |████████████████████████████████████████████████████████| 100%\n"
          ],
          "name": "stdout"
        }
      ]
    },
    {
      "cell_type": "markdown",
      "metadata": {
        "id": "qECvmoaBXPZm"
      },
      "source": [
        "*Note: If you see the following error, it means that you need to install the pandas module.*\n",
        "```\n",
        "H2OTypeError: Argument `python_obj` should be a None | list | tuple | dict | numpy.ndarray | pandas.DataFrame | scipy.sparse.issparse, got H2OTwoDimTable \n",
        "``` "
      ]
    },
    {
      "cell_type": "markdown",
      "metadata": {
        "id": "3pxZaEmAXPZn"
      },
      "source": [
        "For demonstration purposes, we will also execute a second AutoML run, this time providing the original, full dataset, `df` (without passing a `leaderboard_frame`).  This is a more efficient use of our data since we can use 100% of the data for training, rather than 80% like we did above.  This time our leaderboard will use cross-validated metrics.\n",
        "\n",
        "*Note: Using an explicit `leaderboard_frame` for scoring may be useful in some cases, which is why the option is available.*  "
      ]
    },
    {
      "cell_type": "code",
      "metadata": {
        "id": "Ertv9bDrXPZn",
        "colab": {
          "base_uri": "https://localhost:8080/"
        },
        "outputId": "d34f5811-0bcb-4bde-ffc6-58e737fc0da9"
      },
      "source": [
        "aml2 = H2OAutoML(max_runtime_secs = 60, seed = 1, project_name = \"powerplant_full_data\")\n",
        "aml2.train(y = y, training_frame = df)"
      ],
      "execution_count": 12,
      "outputs": [
        {
          "output_type": "stream",
          "text": [
            "AutoML progress: |████████████████████████████████████████████████████████| 100%\n"
          ],
          "name": "stdout"
        }
      ]
    },
    {
      "cell_type": "markdown",
      "metadata": {
        "id": "ZfWGn-fvXPZn"
      },
      "source": [
        "*Note: We specify a `project_name` here for clarity.*"
      ]
    },
    {
      "cell_type": "markdown",
      "metadata": {
        "id": "l1kSpVEwXPZo"
      },
      "source": [
        "## Leaderboard\n",
        "\n",
        "Next, we will view the AutoML Leaderboard.  Since we specified a `leaderboard_frame` in the `H2OAutoML.train()` method for scoring and ranking the models, the AutoML leaderboard uses the performance on this data to rank the models.\n",
        "\n",
        "After viewing the `\"powerplant_lb_frame\"` AutoML project leaderboard, we compare that to the leaderboard for the `\"powerplant_full_data\"` project.  We can see that the results are better when the full dataset is used for training.  \n",
        "\n",
        "A default performance metric for each machine learning task (binary classification, multiclass classification, regression) is specified internally and the leaderboard will be sorted by that metric.  In the case of regression, the default ranking metric is mean residual deviance.  In the future, the user will be able to specify any of the H2O metrics so that different metrics can be used to generate rankings on the leaderboard."
      ]
    },
    {
      "cell_type": "code",
      "metadata": {
        "id": "I8F7p2HXXPZo",
        "colab": {
          "base_uri": "https://localhost:8080/",
          "height": 250
        },
        "outputId": "c1675abf-d695-4649-85ee-21d79aff3c62"
      },
      "source": [
        "aml.leaderboard.head()"
      ],
      "execution_count": 13,
      "outputs": [
        {
          "output_type": "display_data",
          "data": {
            "text/html": [
              "<table>\n",
              "<thead>\n",
              "<tr><th>model_id                                           </th><th style=\"text-align: right;\">  mean_residual_deviance</th><th style=\"text-align: right;\">   rmse</th><th style=\"text-align: right;\">    mse</th><th style=\"text-align: right;\">    mae</th><th style=\"text-align: right;\">     rmsle</th></tr>\n",
              "</thead>\n",
              "<tbody>\n",
              "<tr><td>XGBoost_grid__1_AutoML_20210801_203326_model_1     </td><td style=\"text-align: right;\">                 11.7239</td><td style=\"text-align: right;\">3.42402</td><td style=\"text-align: right;\">11.7239</td><td style=\"text-align: right;\">2.34031</td><td style=\"text-align: right;\">0.00751901</td></tr>\n",
              "<tr><td>XGBoost_grid__1_AutoML_20210801_203326_model_2     </td><td style=\"text-align: right;\">                 14.4687</td><td style=\"text-align: right;\">3.80377</td><td style=\"text-align: right;\">14.4687</td><td style=\"text-align: right;\">2.75897</td><td style=\"text-align: right;\">0.00835398</td></tr>\n",
              "<tr><td>XGBoost_2_AutoML_20210801_203326                   </td><td style=\"text-align: right;\">                 15.2316</td><td style=\"text-align: right;\">3.90277</td><td style=\"text-align: right;\">15.2316</td><td style=\"text-align: right;\">2.88963</td><td style=\"text-align: right;\">0.00857461</td></tr>\n",
              "<tr><td>XGBoost_3_AutoML_20210801_203326                   </td><td style=\"text-align: right;\">                 15.9585</td><td style=\"text-align: right;\">3.99481</td><td style=\"text-align: right;\">15.9585</td><td style=\"text-align: right;\">3.01604</td><td style=\"text-align: right;\">0.00879275</td></tr>\n",
              "<tr><td>GBM_grid__1_AutoML_20210801_203326_model_1         </td><td style=\"text-align: right;\">                 15.9601</td><td style=\"text-align: right;\">3.99501</td><td style=\"text-align: right;\">15.9601</td><td style=\"text-align: right;\">2.97285</td><td style=\"text-align: right;\">0.00878345</td></tr>\n",
              "<tr><td>GLM_1_AutoML_20210801_203326                       </td><td style=\"text-align: right;\">                 21.0746</td><td style=\"text-align: right;\">4.59071</td><td style=\"text-align: right;\">21.0746</td><td style=\"text-align: right;\">3.60825</td><td style=\"text-align: right;\">0.0100994 </td></tr>\n",
              "<tr><td>XRT_1_AutoML_20210801_203326                       </td><td style=\"text-align: right;\">                 21.4955</td><td style=\"text-align: right;\">4.63633</td><td style=\"text-align: right;\">21.4955</td><td style=\"text-align: right;\">3.28516</td><td style=\"text-align: right;\">0.0102065 </td></tr>\n",
              "<tr><td>DeepLearning_1_AutoML_20210801_203326              </td><td style=\"text-align: right;\">                 22.5645</td><td style=\"text-align: right;\">4.75021</td><td style=\"text-align: right;\">22.5645</td><td style=\"text-align: right;\">3.5958 </td><td style=\"text-align: right;\">0.0104512 </td></tr>\n",
              "<tr><td>DeepLearning_grid__1_AutoML_20210801_203326_model_1</td><td style=\"text-align: right;\">                 23.9207</td><td style=\"text-align: right;\">4.89088</td><td style=\"text-align: right;\">23.9207</td><td style=\"text-align: right;\">3.7618 </td><td style=\"text-align: right;\">0.0107912 </td></tr>\n",
              "<tr><td>GBM_5_AutoML_20210801_203326                       </td><td style=\"text-align: right;\">                 30.8561</td><td style=\"text-align: right;\">5.55483</td><td style=\"text-align: right;\">30.8561</td><td style=\"text-align: right;\">4.47109</td><td style=\"text-align: right;\">0.0121477 </td></tr>\n",
              "</tbody>\n",
              "</table>"
            ]
          },
          "metadata": {
            "tags": []
          }
        },
        {
          "output_type": "execute_result",
          "data": {
            "text/plain": [
              ""
            ]
          },
          "metadata": {
            "tags": []
          },
          "execution_count": 13
        }
      ]
    },
    {
      "cell_type": "markdown",
      "metadata": {
        "id": "k8iIK8yWXPZo"
      },
      "source": [
        "Now we will view a snapshot of the top models.  Here we should see the two Stacked Ensembles at or near the top of the leaderboard.  Stacked Ensembles can almost always outperform a single model."
      ]
    },
    {
      "cell_type": "code",
      "metadata": {
        "id": "su3uC-sZXPZp",
        "colab": {
          "base_uri": "https://localhost:8080/",
          "height": 250
        },
        "outputId": "98482f92-267f-473f-eec9-0ee077d6d5f1"
      },
      "source": [
        "aml2.leaderboard.head()"
      ],
      "execution_count": 14,
      "outputs": [
        {
          "output_type": "display_data",
          "data": {
            "text/html": [
              "<table>\n",
              "<thead>\n",
              "<tr><th>model_id                                      </th><th style=\"text-align: right;\">  mean_residual_deviance</th><th style=\"text-align: right;\">   rmse</th><th style=\"text-align: right;\">    mse</th><th style=\"text-align: right;\">    mae</th><th style=\"text-align: right;\">     rmsle</th></tr>\n",
              "</thead>\n",
              "<tbody>\n",
              "<tr><td>XGBoost_grid__1_AutoML_20210801_203431_model_1</td><td style=\"text-align: right;\">                 10.7323</td><td style=\"text-align: right;\">3.27602</td><td style=\"text-align: right;\">10.7323</td><td style=\"text-align: right;\">2.30761</td><td style=\"text-align: right;\">0.00719845</td></tr>\n",
              "<tr><td>XGBoost_1_AutoML_20210801_203431              </td><td style=\"text-align: right;\">                 13.1501</td><td style=\"text-align: right;\">3.62631</td><td style=\"text-align: right;\">13.1501</td><td style=\"text-align: right;\">2.70778</td><td style=\"text-align: right;\">0.00796222</td></tr>\n",
              "<tr><td>XGBoost_2_AutoML_20210801_203431              </td><td style=\"text-align: right;\">                 13.2317</td><td style=\"text-align: right;\">3.63754</td><td style=\"text-align: right;\">13.2317</td><td style=\"text-align: right;\">2.70402</td><td style=\"text-align: right;\">0.0079882 </td></tr>\n",
              "<tr><td>XGBoost_grid__1_AutoML_20210801_203431_model_2</td><td style=\"text-align: right;\">                 13.5327</td><td style=\"text-align: right;\">3.67868</td><td style=\"text-align: right;\">13.5327</td><td style=\"text-align: right;\">2.71647</td><td style=\"text-align: right;\">0.00806812</td></tr>\n",
              "<tr><td>XGBoost_3_AutoML_20210801_203431              </td><td style=\"text-align: right;\">                 14.6819</td><td style=\"text-align: right;\">3.8317 </td><td style=\"text-align: right;\">14.6819</td><td style=\"text-align: right;\">2.89557</td><td style=\"text-align: right;\">0.00841354</td></tr>\n",
              "<tr><td>GBM_grid__1_AutoML_20210801_203431_model_1    </td><td style=\"text-align: right;\">                 14.9633</td><td style=\"text-align: right;\">3.86824</td><td style=\"text-align: right;\">14.9633</td><td style=\"text-align: right;\">2.92079</td><td style=\"text-align: right;\">0.00849118</td></tr>\n",
              "<tr><td>GBM_grid__1_AutoML_20210801_203431_model_2    </td><td style=\"text-align: right;\">                 16.0995</td><td style=\"text-align: right;\">4.01242</td><td style=\"text-align: right;\">16.0995</td><td style=\"text-align: right;\">3.08456</td><td style=\"text-align: right;\">0.00878243</td></tr>\n",
              "<tr><td>DRF_1_AutoML_20210801_203431                  </td><td style=\"text-align: right;\">                 16.6506</td><td style=\"text-align: right;\">4.08052</td><td style=\"text-align: right;\">16.6506</td><td style=\"text-align: right;\">2.95398</td><td style=\"text-align: right;\">0.00896094</td></tr>\n",
              "<tr><td>XRT_1_AutoML_20210801_203431                  </td><td style=\"text-align: right;\">                 17.5849</td><td style=\"text-align: right;\">4.19344</td><td style=\"text-align: right;\">17.5849</td><td style=\"text-align: right;\">3.03052</td><td style=\"text-align: right;\">0.00920459</td></tr>\n",
              "<tr><td>DeepLearning_1_AutoML_20210801_203431         </td><td style=\"text-align: right;\">                 19.0227</td><td style=\"text-align: right;\">4.36151</td><td style=\"text-align: right;\">19.0227</td><td style=\"text-align: right;\">3.3543 </td><td style=\"text-align: right;\">0.00958201</td></tr>\n",
              "</tbody>\n",
              "</table>"
            ]
          },
          "metadata": {
            "tags": []
          }
        },
        {
          "output_type": "execute_result",
          "data": {
            "text/plain": [
              ""
            ]
          },
          "metadata": {
            "tags": []
          },
          "execution_count": 14
        }
      ]
    },
    {
      "cell_type": "markdown",
      "metadata": {
        "id": "OpCjuAcGXPZp"
      },
      "source": [
        "This dataset comes from the [UCI Machine Learning Repository](http://archive.ics.uci.edu/ml/datasets/Combined+Cycle+Power+Plant) of machine learning datasets.  The data was used in a [publication](https://www.sciencedirect.com/science/article/pii/S0142061514000908) in the *International Journal of Electrical Power & Energy Systems* in 2014.  In the paper, the authors achieved a mean absolute error (MAE) of 2.818 and a Root Mean-Squared Error (RMSE) of 3.787 on their best model.  So, with H2O's AutoML, we've already beaten the state-of-the-art in just 60 seconds of compute time!"
      ]
    },
    {
      "cell_type": "markdown",
      "metadata": {
        "id": "Op_DrM5aXPZp"
      },
      "source": [
        "## Predict Using Leader Model\n",
        "\n",
        "If you need to generate predictions on a test set, you can make predictions on the `\"H2OAutoML\"` object directly, or on the leader model object."
      ]
    },
    {
      "cell_type": "code",
      "metadata": {
        "id": "olLvB6zXXPZp",
        "colab": {
          "base_uri": "https://localhost:8080/",
          "height": 267
        },
        "outputId": "0695fb2e-ab7a-40fd-c3ef-6b7ad169267e"
      },
      "source": [
        "pred = aml.predict(test)\n",
        "pred.head()"
      ],
      "execution_count": 15,
      "outputs": [
        {
          "output_type": "stream",
          "text": [
            "xgboost prediction progress: |████████████████████████████████████████████| 100%\n"
          ],
          "name": "stdout"
        },
        {
          "output_type": "display_data",
          "data": {
            "text/html": [
              "<table>\n",
              "<thead>\n",
              "<tr><th style=\"text-align: right;\">  predict</th></tr>\n",
              "</thead>\n",
              "<tbody>\n",
              "<tr><td style=\"text-align: right;\">  485.695</td></tr>\n",
              "<tr><td style=\"text-align: right;\">  473.756</td></tr>\n",
              "<tr><td style=\"text-align: right;\">  467.413</td></tr>\n",
              "<tr><td style=\"text-align: right;\">  450.41 </td></tr>\n",
              "<tr><td style=\"text-align: right;\">  448.128</td></tr>\n",
              "<tr><td style=\"text-align: right;\">  468.133</td></tr>\n",
              "<tr><td style=\"text-align: right;\">  442.936</td></tr>\n",
              "<tr><td style=\"text-align: right;\">  466.101</td></tr>\n",
              "<tr><td style=\"text-align: right;\">  442.655</td></tr>\n",
              "<tr><td style=\"text-align: right;\">  431.161</td></tr>\n",
              "</tbody>\n",
              "</table>"
            ]
          },
          "metadata": {
            "tags": []
          }
        },
        {
          "output_type": "execute_result",
          "data": {
            "text/plain": [
              ""
            ]
          },
          "metadata": {
            "tags": []
          },
          "execution_count": 15
        }
      ]
    },
    {
      "cell_type": "markdown",
      "metadata": {
        "id": "F5PzvSFBXPZp"
      },
      "source": [
        "If needed, the standard `model_performance()` method can be applied to the AutoML leader model and a test set to generate an H2O model performance object."
      ]
    },
    {
      "cell_type": "code",
      "metadata": {
        "id": "3hmASzOlXPZq",
        "colab": {
          "base_uri": "https://localhost:8080/"
        },
        "outputId": "37fc65e2-faae-4aee-e2e6-44e997f4b1df"
      },
      "source": [
        "perf = aml.leader.model_performance(test)\n",
        "perf"
      ],
      "execution_count": 16,
      "outputs": [
        {
          "output_type": "stream",
          "text": [
            "\n",
            "ModelMetricsRegression: xgboost\n",
            "** Reported on test data. **\n",
            "\n",
            "MSE: 11.723888817434862\n",
            "RMSE: 3.4240164744689623\n",
            "MAE: 2.3403112773602754\n",
            "RMSLE: 0.007519009129557612\n",
            "Mean Residual Deviance: 11.723888817434862\n"
          ],
          "name": "stdout"
        },
        {
          "output_type": "execute_result",
          "data": {
            "text/plain": [
              ""
            ]
          },
          "metadata": {
            "tags": []
          },
          "execution_count": 16
        }
      ]
    }
  ]
}
