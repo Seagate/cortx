{
 "cells": [
  {
   "cell_type": "code",
   "execution_count": 133,
   "id": "df199df6",
   "metadata": {},
   "outputs": [],
   "source": [
    "import cortx_community as cc\n",
    "import cortx_graphing as cg\n",
    "from github import Github  # https://pygithub.readthedocs.io/\n",
    "import github\n",
    "import pickle\n",
    "import os\n",
    "from datetime import datetime\n",
    "import matplotlib.pyplot as plt\n",
    "import pandas as pd"
   ]
  },
  {
   "cell_type": "code",
   "execution_count": 17,
   "id": "9de43f69",
   "metadata": {},
   "outputs": [],
   "source": [
    "repos={}\n",
    "repos['ceph'] =cc.get_repos(None,'ceph','ceph')\n",
    "repos['minio']=cc.get_repos(None,'minio','minio')\n",
    "repos['cortx']=cc.get_repos(None,'Seagate','cortx')\n",
    "\n",
    "Orgs = ('minio','ceph','cortx')\n",
    "AllTypes=('open_issues','closed_issues','open_pullrequests','closed_pullrequests')"
   ]
  },
  {
   "cell_type": "code",
   "execution_count": 27,
   "id": "b6d1105d",
   "metadata": {},
   "outputs": [
    {
     "name": "stdout",
     "output_type": "stream",
     "text": [
      "Fetching issues for ceph\n",
      "Fetching issues for ceph-qa-chef\n",
      "Fetching issues for ceph-client\n",
      "Fetching issues for ceph-qa-suite\n",
      "Fetching issues for autobuild-ceph\n",
      "Fetching issues for ceph-cookbook\n",
      "Fetching issues for ceph-client-standalone\n",
      "Fetching issues for ceph-build\n",
      "Fetching issues for ceph-openstack-tools\n",
      "Fetching issues for ceph-autotests\n",
      "Fetching issues for barclamp-ceph\n",
      "Fetching issues for ceph-tools\n",
      "Fetching issues for ceph-kdump-copy\n",
      "Fetching issues for package-ceph-barclamp\n",
      "Fetching issues for ceph-deploy\n",
      "Fetching issues for ceph-nagios-plugins\n",
      "Fetching issues for puppet-ceph\n",
      "Fetching issues for ceph-ansible\n",
      "Fetching issues for ceph-kmod-rpm\n",
      "Fetching issues for cephfs-hadoop\n",
      "Fetching issues for ceph-erasure-code-corpus\n",
      "Fetching issues for ceph-object-corpus\n",
      "Fetching issues for ceph-container\n",
      "Fetching issues for ceph-devstack\n",
      "Fetching issues for git.ceph.com\n",
      "Fetching issues for ceph-cm-ansible\n",
      "Fetching issues for ceph-installer\n",
      "Fetching issues for ceph-ci\n",
      "Fetching issues for ceph-ruby\n",
      "Fetching issues for go-ceph\n",
      "Fetching issues for ceph-chef\n",
      "Fetching issues for ceph-brag\n",
      "Fetching issues for ceph-iscsi-tools\n",
      "Fetching issues for ceph-iscsi-config\n",
      "Fetching issues for ceph-iscsi-cli\n",
      "Fetching issues for ceph-medic\n",
      "Fetching issues for cephmetrics\n",
      "Fetching issues for ceph-csi\n",
      "Fetching issues for cephmetrics-osp\n",
      "Fetching issues for ceph-iscsi\n",
      "Fetching issues for ceph-upgrade\n",
      "Fetching issues for ceph-mixins\n",
      "Fetching issues for ceph-notes\n",
      "Fetching issues for ceph-telemetry\n",
      "Fetching issues for ceph-daemon-adoption-corpus\n",
      "Fetching issues for ceph-salt\n",
      "Fetching issues for cephadm-adoption-corpus\n",
      "Fetching issues for ceph-win32-tests\n",
      "Fetching issues for ceph.io\n",
      "Fetching issues for ceph-nvmeof\n",
      "Fetching issues for ceph-cosi\n",
      "Fetching issues for cephadm-ansible\n",
      "Fetching issues for ceph-pr-checklist-action\n",
      "Fetching issues for minio\n",
      "Fetching issues for minio-go\n",
      "Fetching issues for minio-java\n",
      "Fetching issues for minio-js\n",
      "Fetching issues for minio-py\n",
      "Fetching issues for minio-dotnet\n",
      "Fetching issues for minio-js-store-app\n",
      "Fetching issues for minio-go-media-player\n",
      "Fetching issues for minio-java-rest-example\n",
      "Fetching issues for awesome-minio\n",
      "Fetching issues for minio-ruby\n",
      "Fetching issues for minio-service\n",
      "Fetching issues for minio-jenkins\n",
      "Fetching issues for minio-hs\n",
      "Fetching issues for minio-boshrelease\n",
      "Fetching issues for minio-lambda-notification-example\n",
      "Fetching issues for minio-cf\n",
      "Fetching issues for minio-pcf-adapter\n",
      "Fetching issues for nifi-minio\n",
      "Fetching issues for minio-rs\n",
      "Fetching issues for hdfs-to-minio\n",
      "Fetching issues for hcp-to-minio\n",
      "Fetching issues for presto-minio\n",
      "Fetching issues for minio-iam-testing\n",
      "Fetching issues for minio-cpp\n",
      "Fetching issues for cortx-monitor\n",
      "Fetching issues for cortx\n",
      "Fetching issues for cortx-s3server\n",
      "Fetching issues for cortx-experiments\n",
      "Fetching issues for cortx-posix\n",
      "Fetching issues for cortx-py-utils\n",
      "Fetching issues for cortx-prvsnr\n",
      "Fetching issues for cortx-re\n",
      "Fetching issues for cortx-ha\n",
      "Fetching issues for cortx-hare\n",
      "Fetching issues for cortx-management-portal\n",
      "Fetching issues for cortx-manager\n",
      "Fetching issues for cortx-utils\n",
      "Fetching issues for cortx-fs\n",
      "Fetching issues for cortx-nsal\n",
      "Fetching issues for cortx-dsal\n",
      "Fetching issues for cortx-fs-ganesha\n",
      "Fetching issues for cortx-motr-galois\n",
      "Fetching issues for cortx-motr\n",
      "Fetching issues for cortx-motr-apps\n",
      "Fetching issues for cortx-mio\n",
      "Fetching issues for cortx-videos\n",
      "Fetching issues for cortx-multisite\n",
      "Fetching issues for cortx-k8s\n",
      "Fetching issues for cortx-rgw-integration\n"
     ]
    }
   ],
   "source": [
    "issues={}\n",
    "for k in repos.keys():\n",
    "    issues[k]=[]\n",
    "    for r in repos[k]:\n",
    "        print(\"Fetching issues for %s\" % r.name)\n",
    "        for i in r.get_issues(state='all'):\n",
    "            issues[k].append(i)"
   ]
  },
  {
   "cell_type": "code",
   "execution_count": 16,
   "id": "7adaa902",
   "metadata": {},
   "outputs": [
    {
     "name": "stdout",
     "output_type": "stream",
     "text": [
      "[Repository(full_name=\"Seagate/cortx-monitor\"), Repository(full_name=\"Seagate/cortx\"), Repository(full_name=\"Seagate/cortx-s3server\"), Repository(full_name=\"Seagate/cortx-experiments\"), Repository(full_name=\"Seagate/cortx-posix\"), Repository(full_name=\"Seagate/cortx-py-utils\"), Repository(full_name=\"Seagate/cortx-prvsnr\"), Repository(full_name=\"Seagate/cortx-re\"), Repository(full_name=\"Seagate/cortx-ha\"), Repository(full_name=\"Seagate/cortx-hare\"), Repository(full_name=\"Seagate/cortx-management-portal\"), Repository(full_name=\"Seagate/cortx-manager\"), Repository(full_name=\"Seagate/cortx-utils\"), Repository(full_name=\"Seagate/cortx-fs\"), Repository(full_name=\"Seagate/cortx-nsal\"), Repository(full_name=\"Seagate/cortx-dsal\"), Repository(full_name=\"Seagate/cortx-fs-ganesha\"), Repository(full_name=\"Seagate/cortx-motr-galois\"), Repository(full_name=\"Seagate/cortx-motr\"), Repository(full_name=\"Seagate/cortx-motr-apps\"), Repository(full_name=\"Seagate/cortx-mio\"), Repository(full_name=\"Seagate/cortx-videos\"), Repository(full_name=\"Seagate/cortx-multisite\"), Repository(full_name=\"Seagate/cortx-k8s\"), Repository(full_name=\"Seagate/cortx-rgw-integration\")]\n"
     ]
    }
   ],
   "source": [
    "print(c)"
   ]
  },
  {
   "cell_type": "code",
   "execution_count": 206,
   "id": "03736b27",
   "metadata": {},
   "outputs": [
    {
     "name": "stdout",
     "output_type": "stream",
     "text": [
      "Rate limit seems OK.  4993 remaining; reset in 2260\n"
     ]
    }
   ],
   "source": [
    "# initialize the stats\n",
    "gh = Github(os.environ.get('GH_OATH'))\n",
    "cc.avoid_rate_limiting(gh,10,True)\n",
    "\n",
    "def get_stats_structure():\n",
    "    stats = {}\n",
    "    #for org in ('ceph','minio','cortx'):\n",
    "    # just clear the ceph stats since it crashed after 60K out of 65K\n",
    "    for org in Orgs:\n",
    "        stats[org] = {}\n",
    "        for Type in AllTypes:\n",
    "            stats[org][Type] = []\n",
    "            for Type in ('issues','pullrequests'):\n",
    "                stats[org]['%s_%s' % (state,Type)] = []\n",
    "    return(stats)"
   ]
  },
  {
   "cell_type": "code",
   "execution_count": 74,
   "id": "4cbaf989",
   "metadata": {},
   "outputs": [],
   "source": [
    "def get_response_latency(issue,issue_creation):\n",
    "    try:\n",
    "        first_comment = i.get_comments()[0]\n",
    "        return (first_comment.created_at - birth).total_seconds()\n",
    "    except IndexError:\n",
    "        return None"
   ]
  },
  {
   "cell_type": "code",
   "execution_count": 103,
   "id": "dda28baf",
   "metadata": {},
   "outputs": [
    {
     "ename": "KeyError",
     "evalue": "'ceph'",
     "output_type": "error",
     "traceback": [
      "\u001b[0;31m---------------------------------------------------------------------------\u001b[0m",
      "\u001b[0;31mKeyError\u001b[0m                                  Traceback (most recent call last)",
      "\u001b[0;32m/var/folders/3v/ywxhzjyx561826j1twbg2p7mggvlp3/T/ipykernel_14124/1270850651.py\u001b[0m in \u001b[0;36m<module>\u001b[0;34m\u001b[0m\n\u001b[1;32m     26\u001b[0m             \u001b[0mage_in_seconds\u001b[0m \u001b[0;34m=\u001b[0m \u001b[0;32mNone\u001b[0m\u001b[0;34m\u001b[0m\u001b[0;34m\u001b[0m\u001b[0m\n\u001b[1;32m     27\u001b[0m \u001b[0;34m\u001b[0m\u001b[0m\n\u001b[0;32m---> 28\u001b[0;31m     stats[org][full_type].append(\n\u001b[0m\u001b[1;32m     29\u001b[0m         {'birth' : birth, 'age' : age_in_seconds, 'latency' : latency})\n\u001b[1;32m     30\u001b[0m     \u001b[0;32mif\u001b[0m \u001b[0;34m(\u001b[0m\u001b[0mlen\u001b[0m\u001b[0;34m(\u001b[0m\u001b[0mstats\u001b[0m\u001b[0;34m[\u001b[0m\u001b[0morg\u001b[0m\u001b[0;34m]\u001b[0m\u001b[0;34m[\u001b[0m\u001b[0mfull_type\u001b[0m\u001b[0;34m]\u001b[0m\u001b[0;34m)\u001b[0m \u001b[0;34m%\u001b[0m \u001b[0;36m100\u001b[0m \u001b[0;34m==\u001b[0m \u001b[0;36m0\u001b[0m\u001b[0;34m)\u001b[0m\u001b[0;34m:\u001b[0m\u001b[0;34m\u001b[0m\u001b[0;34m\u001b[0m\u001b[0m\n",
      "\u001b[0;31mKeyError\u001b[0m: 'ceph'"
     ]
    }
   ],
   "source": [
    "# this one queries information about each issue: age, response latency, status\n",
    "# so there are four types of issues\n",
    "# open pull requests\n",
    "# closed pull requests\n",
    "# open issues\n",
    "# closed issues\n",
    "org='ceph'\n",
    "for i in issues[org]:\n",
    "    cc.avoid_rate_limiting(gh,10,False)\n",
    "    state=i.state\n",
    "    birth=i.created_at\n",
    "    latency = get_response_latency(i,birth)\n",
    "    \n",
    "    if i.pull_request is None:\n",
    "        Type=\"issues\"\n",
    "    else:\n",
    "        Type=\"pullrequests\"\n",
    "    \n",
    "    if state == 'open':\n",
    "        full_type = 'open_%s' % Type\n",
    "        age_in_seconds = (datetime.utcnow() - birth).total_seconds()\n",
    "    else:\n",
    "        full_type = 'closed_%s' % Type\n",
    "        try:\n",
    "            age_in_seconds = (i.closed_at - birth).total_seconds()\n",
    "        except TypeError:\n",
    "            age_in_seconds = None\n",
    "            \n",
    "    stats[org][full_type].append(\n",
    "        {'birth' : birth, 'age' : age_in_seconds, 'latency' : latency})\n",
    "    if (len(stats[org][full_type]) % 100 == 0):\n",
    "        print(\"Collected %d of %s\" % \n",
    "              (len(stats[org][full_type]),full_type))\n"
   ]
  },
  {
   "cell_type": "code",
   "execution_count": 118,
   "id": "aa980d80",
   "metadata": {},
   "outputs": [
    {
     "name": "stdout",
     "output_type": "stream",
     "text": [
      "open_issues ceph 261\n",
      "open_pullrequests ceph 947\n",
      "closed_issues ceph 2347\n",
      "closed_pullrequests ceph 57722\n",
      "ceph 61277\n",
      "open_issues minio 107\n",
      "open_pullrequests minio 54\n",
      "closed_issues minio 16057\n",
      "closed_pullrequests minio 23774\n",
      "minio 39992\n",
      "open_issues cortx 134\n",
      "open_pullrequests cortx 311\n",
      "closed_issues cortx 2104\n",
      "closed_pullrequests cortx 12422\n",
      "cortx 14971\n"
     ]
    }
   ],
   "source": [
    "# just some debugging info\n",
    "for k,v in issues.items():\n",
    "    print(k,\": \",len(v))\n",
    "#print(stats['ceph'])\n",
    "\n",
    "for org in stats.keys():\n",
    "    L=0\n",
    "    for k in stats[org].keys():\n",
    "        l = len(stats[org][k])\n",
    "        L += l\n",
    "        print(k,org,l)\n",
    "    print(org, L)\n",
    "#print(stats['cortx']['open_issues'][132])"
   ]
  },
  {
   "cell_type": "code",
   "execution_count": 224,
   "id": "fce93c6e",
   "metadata": {},
   "outputs": [],
   "source": [
    "def average_days(List,field):\n",
    "    total_age = 0\n",
    "    count = len(List)\n",
    "    for i in List:\n",
    "        try:\n",
    "            total_age += (i[field]/86400)\n",
    "        except TypeError:\n",
    "            count -= 1 # somehow we don't have data; just ignore\n",
    "    return total_age / len(List)\n",
    "\n",
    "def normalize(Dict,Key,Value,Index):\n",
    "    Dict[Key][Index] /= Value\n",
    "\n",
    "def get_dataframe(stats):\n",
    "    bars = [(\"%s_age\" % x,\"%s_lat\" % x) for x in AllTypes]\n",
    "    #print(bars)\n",
    "    panda_data = {'minio' : [], 'ceph' : [], 'cortx' : []}\n",
    "    bars = [item.replace('_',' ').title() for t in bars for item in t]\n",
    "    #print(bars)\n",
    "\n",
    "    # get the averages for each of the types\n",
    "    for Type in AllTypes:\n",
    "        for org in Orgs:\n",
    "            ave_age = average_days(stats[org][Type],'age')\n",
    "            panda_data[org].append(ave_age)\n",
    "            ave_lat = average_days(stats[org][Type],'latency')\n",
    "            panda_data[org].append(ave_lat)\n",
    "            #print(\"Ave age of %s in %s is %.2f days\" % (Type,org,ave_age/86400))\n",
    "            #print(\"Ave latency of %s in %s is %.2f days\" % (Type,org,ave_lat/86400))\n",
    "    \n",
    "    # print before we normalize\n",
    "    panda_data['bars'] = bars\n",
    "    df = pd.DataFrame(panda_data)\n",
    "    print(df)\n",
    "    \n",
    "    # now let's normalize the data\n",
    "    for i in range(len(panda_data['minio'])):\n",
    "        minimum = min(panda_data['minio'][i],panda_data['ceph'][i],panda_data['cortx'][i])\n",
    "        #print(minimum)\n",
    "        for o in Orgs:\n",
    "            normalize(panda_data,o,minimum,i)\n",
    "    \n",
    "    #panda_data['bars'] = bars\n",
    "    df = pd.DataFrame(panda_data)\n",
    "    print(df)\n",
    "    return df\n",
    "    "
   ]
  },
  {
   "cell_type": "code",
   "execution_count": 226,
   "id": "53eb2e83",
   "metadata": {},
   "outputs": [],
   "source": [
    "def make_graph(stats,title):\n",
    "    df = get_dataframe(stats)\n",
    "\n",
    "    #print(df)\n",
    "    ax = df.plot.barh(x='bars', y=['ceph','minio','cortx'], rot=0,title=title)\n",
    "    #ax1 = plt.axes()\n",
    "    x_axis = ax.axes.get_xaxis()\n",
    "    x_axis.set_label_text(\"Normalized Value (Lower is Better)\")\n",
    "    y_axis = ax.axes.get_yaxis()\n",
    "    y_axis.set_label_text(None)\n",
    "    plt.show()\n",
    "#df.plot(x = ['bars'], y= ['ceph','minio','cortx'], kind = 'bar')"
   ]
  },
  {
   "cell_type": "code",
   "execution_count": 227,
   "id": "56e673ab",
   "metadata": {},
   "outputs": [
    {
     "name": "stdout",
     "output_type": "stream",
     "text": [
      "        minio         ceph       cortx                     bars\n",
      "0  574.991947  1091.423181  244.582877          Open Issues Age\n",
      "1    3.322433    25.762560   16.888074          Open Issues Lat\n",
      "2   34.934166   140.861678   65.060154        Closed Issues Age\n",
      "3   28.559171    33.032444    8.589262        Closed Issues Lat\n",
      "4  403.026807   336.422545  140.267249    Open Pullrequests Age\n",
      "5   15.655865    17.128324    2.465162    Open Pullrequests Lat\n",
      "6    5.851502    24.000239    7.222216  Closed Pullrequests Age\n",
      "7    1.549934     5.038534    1.480921  Closed Pullrequests Lat\n",
      "      minio      ceph     cortx                     bars\n",
      "0  2.350908  4.462386  1.000000          Open Issues Age\n",
      "1  1.000000  7.754124  5.083044          Open Issues Lat\n",
      "2  1.000000  4.032204  1.862365        Closed Issues Age\n",
      "3  3.324986  3.845784  1.000000        Closed Issues Lat\n",
      "4  2.873278  2.398440  1.000000    Open Pullrequests Age\n",
      "5  6.350847  6.948155  1.000000    Open Pullrequests Lat\n",
      "6  1.000000  4.101552  1.234250  Closed Pullrequests Age\n",
      "7  1.046602  3.402299  1.000000  Closed Pullrequests Lat\n"
     ]
    },
    {
     "data": {
      "image/png": "[encoded data removed]",
      "text/plain": [
       "<Figure size 432x288 with 1 Axes>"
      ]
     },
     "metadata": {
      "needs_background": "light"
     },
     "output_type": "display_data"
    },
    {
     "name": "stdout",
     "output_type": "stream",
     "text": [
      "       minio       ceph      cortx                     bars\n",
      "0  54.016310  65.749477  48.876655          Open Issues Age\n",
      "1   2.786022   3.382744   1.366022          Open Issues Lat\n",
      "2   3.717805  11.319465  18.205133        Closed Issues Age\n",
      "3   1.276787   2.156689   1.485435        Closed Issues Lat\n",
      "4  28.297497  59.077419  46.867272    Open Pullrequests Age\n",
      "5  17.488693   4.473975   2.325719    Open Pullrequests Lat\n",
      "6   2.745221  12.943111   5.233463  Closed Pullrequests Age\n",
      "7   1.013911   2.958544   1.058766  Closed Pullrequests Lat\n",
      "      minio      ceph     cortx                     bars\n",
      "0  1.105156  1.345212  1.000000          Open Issues Age\n",
      "1  2.039515  2.476347  1.000000          Open Issues Lat\n",
      "2  1.000000  3.044663  4.896742        Closed Issues Age\n",
      "3  1.000000  1.689153  1.163417        Closed Issues Lat\n",
      "4  1.000000  2.087726  1.656234    Open Pullrequests Age\n",
      "5  7.519692  1.923695  1.000000    Open Pullrequests Lat\n",
      "6  1.000000  4.714779  1.906390  Closed Pullrequests Age\n",
      "7  1.000000  2.917951  1.044239  Closed Pullrequests Lat\n"
     ]
    },
    {
     "data": {
      "image/png": "[encoded data removed]",
      "text/plain": [
       "<Figure size 432x288 with 1 Axes>"
      ]
     },
     "metadata": {
      "needs_background": "light"
     },
     "output_type": "display_data"
    }
   ],
   "source": [
    "make_graph(stats,\"OVER ALL TIME\")\n",
    "\n",
    "def within(issue,months):\n",
    "    age = (datetime.utcnow() - issue['birth']).total_seconds()\n",
    "    return age < 6*30*86400\n",
    "    print(age)\n",
    "\n",
    "# now let's make a copy of the stats but only for things opened within last six months\n",
    "recent_stats = get_stats_structure()\n",
    "for Type in AllTypes:\n",
    "    for org in Orgs:\n",
    "        for i in stats[org][Type]:\n",
    "            if within(i,6):\n",
    "                recent_stats[org][Type].append(i)\n",
    "make_graph(recent_stats, \"LAST SIX MONTHS\")"
   ]
  },
  {
   "cell_type": "code",
   "execution_count": 114,
   "id": "c099fc3b",
   "metadata": {},
   "outputs": [],
   "source": [
    "#with open('issues_stats.pickle', 'ab') as pfile:\n",
    "#    pickle.dump(stats, pfile)  \n",
    "\n",
    "with open('issues_stats.pickle', 'rb') as pfile:\n",
    "    stats=pickle.load(pfile)"
   ]
  }
 ],
 "metadata": {
  "hide_input": false,
  "kernelspec": {
   "display_name": "Python 3 (ipykernel)",
   "language": "python",
   "name": "python3"
  },
  "language_info": {
   "codemirror_mode": {
    "name": "ipython",
    "version": 3
   },
   "file_extension": ".py",
   "mimetype": "text/x-python",
   "name": "python",
   "nbconvert_exporter": "python",
   "pygments_lexer": "ipython3",
   "version": "3.9.10"
  }
 },
 "nbformat": 4,
 "nbformat_minor": 5
}
