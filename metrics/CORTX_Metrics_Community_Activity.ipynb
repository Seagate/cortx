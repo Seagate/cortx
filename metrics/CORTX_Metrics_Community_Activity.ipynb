{
 "cells": [
  {
   "cell_type": "code",
   "execution_count": 1,
   "metadata": {
    "hide_input": false,
    "scrolled": false,
    "slideshow": {
     "slide_type": "skip"
    }
   },
   "outputs": [],
   "source": [
    "import get_personal_activity as gpa\n",
    "import cortx_community as cc\n",
    "import datetime\n",
    "from IPython.display import Markdown, display, Pretty, Latex, HTML"
   ]
  },
  {
   "cell_type": "code",
   "execution_count": 2,
   "metadata": {},
   "outputs": [],
   "source": [
    "def add_title(t):\n",
    "    display(Markdown(\"<h2><center>%s</center></h2>\" % t))\n",
    "    \n",
    "def start_person(login,count,people):\n",
    "    (e,t,c)=gpa.get_info(login,people)\n",
    "    person=\"<b>%s</b> [%s %s %s] had %d actions\" % (login, e if e else '', c if c else '', t, count)\n",
    "    person+=\"\\n<ul>\\n\"\n",
    "    return person\n",
    "\n",
    "def end_person():\n",
    "    return \"</ul>\\n\"\n",
    "    \n",
    "def add_action(d,u):\n",
    "    return \"\\t<li>%s %s\\n\" % (d,u)\n",
    "    "
   ]
  },
  {
   "cell_type": "code",
   "execution_count": 3,
   "metadata": {
    "slideshow": {
     "slide_type": "skip"
    }
   },
   "outputs": [],
   "source": [
    "# get the data\n",
    "people=cc.CortxCommunity()\n",
    "logins='Unknown,External'\n",
    "limit=2\n",
    "(activities,all_logins)=gpa.get_activities(logins=logins,company=None,people=people)\n",
    "since=datetime.datetime.today() - datetime.timedelta(days=30)\n",
    "activities=gpa.filter_activities(activities=activities,since=since,until=None,limit=limit)"
   ]
  },
  {
   "cell_type": "code",
   "execution_count": 4,
   "metadata": {
    "scrolled": false,
    "slideshow": {
     "slide_type": "slide"
    }
   },
   "outputs": [
    {
     "data": {
      "text/markdown": [
       "<h2><center>External CORTX Community Activity Since 2021-03-01</center></h2>"
      ],
      "text/plain": [
       "<IPython.core.display.Markdown object>"
      ]
     },
     "metadata": {},
     "output_type": "display_data"
    },
    {
     "data": {
      "text/markdown": [
       "<center>18 people had 2 or more community actions since 2021-03-01</center>"
      ],
      "text/plain": [
       "<IPython.core.display.Markdown object>"
      ]
     },
     "metadata": {},
     "output_type": "display_data"
    },
    {
     "data": {
      "text/markdown": [
       "<b>GID_UNK_rinoakbr</b> [rinoakbr@gmail.com  None] had 7 actions\n",
       "<ul>\n",
       "\t<li>2021-03-16 19:06:13 slack_feedback\n",
       "\t<li>2021-03-16 20:52:44 slack_general\n",
       "\t<li>2021-03-17 11:11:20 slack_hackathon-general\n",
       "\t<li>2021-03-25 18:21:46 slack_hackathon-general\n",
       "\t<li>2021-03-25 18:24:13 slack_cortx-get-started\n",
       "\t<li>2021-03-26 12:54:17 slack_hackathon-announcements\n",
       "\t<li>2021-03-26 12:55:37 slack_hackathon-support-and-mentorship\n",
       "</ul>\n"
      ],
      "text/plain": [
       "<IPython.core.display.Markdown object>"
      ]
     },
     "metadata": {},
     "output_type": "display_data"
    },
    {
     "data": {
      "text/markdown": [
       "<b>GID_UNK_samadahmed2019</b> [samadahmed2019@gmail.com  None] had 7 actions\n",
       "<ul>\n",
       "\t<li>2021-03-25 13:37:25 slack_feedback\n",
       "\t<li>2021-03-25 13:37:56 slack_hackathon-general\n",
       "\t<li>2021-03-25 13:41:06 slack_hackathon-general\n",
       "\t<li>2021-03-26 12:54:17 slack_hackathon-announcements\n",
       "\t<li>2021-03-26 12:55:37 slack_hackathon-support-and-mentorship\n",
       "\t<li>2021-03-26 13:19:25 slack_hackathon-support-and-mentorship\n",
       "\t<li>2021-03-26 19:04:50 slack_hackathon-support-and-mentorship\n",
       "</ul>\n"
      ],
      "text/plain": [
       "<IPython.core.display.Markdown object>"
      ]
     },
     "metadata": {},
     "output_type": "display_data"
    },
    {
     "data": {
      "text/markdown": [
       "<b>GID_UNK_george19</b> [george19@vt.edu  None] had 5 actions\n",
       "<ul>\n",
       "\t<li>2021-03-26 06:10:33 slack_cortx-community-triage\n",
       "\t<li>2021-03-26 06:10:34 slack_general\n",
       "\t<li>2021-03-26 12:53:33 slack_hackathon-general\n",
       "\t<li>2021-03-26 12:54:17 slack_hackathon-announcements\n",
       "\t<li>2021-03-26 12:55:37 slack_hackathon-support-and-mentorship\n",
       "</ul>\n"
      ],
      "text/plain": [
       "<IPython.core.display.Markdown object>"
      ]
     },
     "metadata": {},
     "output_type": "display_data"
    },
    {
     "data": {
      "text/markdown": [
       "<b>GID_UNK_1tjcaron</b> [1tjcaron@gmail.com  None] had 5 actions\n",
       "<ul>\n",
       "\t<li>2021-03-25 16:47:02 slack_announcements\n",
       "\t<li>2021-03-25 16:47:03 slack_feedback\n",
       "\t<li>2021-03-26 12:53:32 slack_hackathon-general\n",
       "\t<li>2021-03-26 12:54:17 slack_hackathon-announcements\n",
       "\t<li>2021-03-26 12:55:37 slack_hackathon-support-and-mentorship\n",
       "</ul>\n"
      ],
      "text/plain": [
       "<IPython.core.display.Markdown object>"
      ]
     },
     "metadata": {},
     "output_type": "display_data"
    },
    {
     "data": {
      "text/markdown": [
       "<b>GID_UNK_beingryaan</b> [beingryaan@gmail.com  None] had 5 actions\n",
       "<ul>\n",
       "\t<li>2021-03-26 13:24:44 slack_announcements\n",
       "\t<li>2021-03-26 13:24:45 slack_feedback\n",
       "\t<li>2021-03-26 13:25:22 slack_hackathon-general\n",
       "\t<li>2021-03-26 14:46:16 slack_hackathon-support-and-mentorship\n",
       "\t<li>2021-03-26 14:46:30 slack_hackathon-announcements\n",
       "</ul>\n"
      ],
      "text/plain": [
       "<IPython.core.display.Markdown object>"
      ]
     },
     "metadata": {},
     "output_type": "display_data"
    },
    {
     "data": {
      "text/markdown": [
       "<b>GID_UNK_kaustubh.mande2017</b> [kaustubh.mande2017@gmail.com  None] had 5 actions\n",
       "<ul>\n",
       "\t<li>2021-03-18 02:07:13 slack_cortx-motr\n",
       "\t<li>2021-03-18 02:07:14 slack_general\n",
       "\t<li>2021-03-18 12:10:49 slack_hackathon-general\n",
       "\t<li>2021-03-26 12:54:16 slack_hackathon-announcements\n",
       "\t<li>2021-03-26 12:55:36 slack_hackathon-support-and-mentorship\n",
       "</ul>\n"
      ],
      "text/plain": [
       "<IPython.core.display.Markdown object>"
      ]
     },
     "metadata": {},
     "output_type": "display_data"
    },
    {
     "data": {
      "text/markdown": [
       "<b>GID_UNK_s21sharan</b> [s21sharan@gmail.com  None] had 5 actions\n",
       "<ul>\n",
       "\t<li>2021-03-25 21:54:05 slack_announcements\n",
       "\t<li>2021-03-25 21:54:06 slack_general\n",
       "\t<li>2021-03-26 12:53:33 slack_hackathon-general\n",
       "\t<li>2021-03-26 12:54:17 slack_hackathon-announcements\n",
       "\t<li>2021-03-26 12:55:37 slack_hackathon-support-and-mentorship\n",
       "</ul>\n"
      ],
      "text/plain": [
       "<IPython.core.display.Markdown object>"
      ]
     },
     "metadata": {},
     "output_type": "display_data"
    },
    {
     "data": {
      "text/markdown": [
       "<b>GID_UNK_dani</b> [dani@devpost.com DevPost External] had 5 actions\n",
       "<ul>\n",
       "\t<li>2021-03-12 12:57:07 slack_cortx-community-triage\n",
       "\t<li>2021-03-12 12:57:08 slack_general\n",
       "\t<li>2021-03-26 12:53:32 slack_hackathon-general\n",
       "\t<li>2021-03-26 12:54:16 slack_hackathon-announcements\n",
       "\t<li>2021-03-26 12:55:37 slack_hackathon-support-and-mentorship\n",
       "</ul>\n"
      ],
      "text/plain": [
       "<IPython.core.display.Markdown object>"
      ]
     },
     "metadata": {},
     "output_type": "display_data"
    },
    {
     "data": {
      "text/markdown": [
       "<b>GID_UNK_aakashnair05</b> [aakashnair05@gmail.com  None] had 4 actions\n",
       "<ul>\n",
       "\t<li>2021-03-22 06:05:02 slack_announcements\n",
       "\t<li>2021-03-25 10:19:08 slack_hackathon-general\n",
       "\t<li>2021-03-26 12:54:17 slack_hackathon-announcements\n",
       "\t<li>2021-03-26 12:55:37 slack_hackathon-support-and-mentorship\n",
       "</ul>\n"
      ],
      "text/plain": [
       "<IPython.core.display.Markdown object>"
      ]
     },
     "metadata": {},
     "output_type": "display_data"
    },
    {
     "data": {
      "text/markdown": [
       "<b>GID_UNK_ritvi12</b> [ritvi12@gmail.com  None] had 4 actions\n",
       "<ul>\n",
       "\t<li>2021-03-17 10:25:28 slack_announcements\n",
       "\t<li>2021-03-17 11:11:24 slack_hackathon-general\n",
       "\t<li>2021-03-26 12:54:16 slack_hackathon-announcements\n",
       "\t<li>2021-03-26 12:55:37 slack_hackathon-support-and-mentorship\n",
       "</ul>\n"
      ],
      "text/plain": [
       "<IPython.core.display.Markdown object>"
      ]
     },
     "metadata": {},
     "output_type": "display_data"
    },
    {
     "data": {
      "text/markdown": [
       "<b>GID_UNK_imjuststarting</b> [imjuststarting@gmail.com   External] had 4 actions\n",
       "<ul>\n",
       "\t<li>2021-03-18 23:53:18 slack_feedback\n",
       "\t<li>2021-03-25 13:51:06 slack_hackathon-general\n",
       "\t<li>2021-03-26 12:54:17 slack_hackathon-announcements\n",
       "\t<li>2021-03-26 12:55:37 slack_hackathon-support-and-mentorship\n",
       "</ul>\n"
      ],
      "text/plain": [
       "<IPython.core.display.Markdown object>"
      ]
     },
     "metadata": {},
     "output_type": "display_data"
    },
    {
     "data": {
      "text/markdown": [
       "<b>GID_UNK_infantsamchris</b> [infantsamchris@gmail.com  None] had 4 actions\n",
       "<ul>\n",
       "\t<li>2021-03-17 14:14:26 slack_feedback\n",
       "\t<li>2021-03-18 12:10:49 slack_hackathon-general\n",
       "\t<li>2021-03-26 12:54:16 slack_hackathon-announcements\n",
       "\t<li>2021-03-26 12:55:36 slack_hackathon-support-and-mentorship\n",
       "</ul>\n"
      ],
      "text/plain": [
       "<IPython.core.display.Markdown object>"
      ]
     },
     "metadata": {},
     "output_type": "display_data"
    },
    {
     "data": {
      "text/markdown": [
       "<b>GID_UNK_ssatija</b> [ssatija@wisc.edu  None] had 3 actions\n",
       "<ul>\n",
       "\t<li>2021-03-26 14:53:10 slack_feedback\n",
       "\t<li>2021-03-26 15:02:06 slack_ops-and-implementation\n",
       "\t<li>2021-03-26 17:12:04 slack_general\n",
       "</ul>\n"
      ],
      "text/plain": [
       "<IPython.core.display.Markdown object>"
      ]
     },
     "metadata": {},
     "output_type": "display_data"
    },
    {
     "data": {
      "text/markdown": [
       "<b>GID_UNK_garima.kapur</b> [garima.kapur@gmail.com  None] had 2 actions\n",
       "<ul>\n",
       "\t<li>2021-03-01 13:42:15 slack_announcements\n",
       "\t<li>2021-03-01 13:42:16 slack_general\n",
       "</ul>\n"
      ],
      "text/plain": [
       "<IPython.core.display.Markdown object>"
      ]
     },
     "metadata": {},
     "output_type": "display_data"
    },
    {
     "data": {
      "text/markdown": [
       "<b>GID_UNK_r1j1m1n1</b> [r1j1m1n1@gmail.com  None] had 2 actions\n",
       "<ul>\n",
       "\t<li>2021-03-01 23:13:29 slack_announcements\n",
       "\t<li>2021-03-01 23:13:30 slack_cortx-get-started\n",
       "</ul>\n"
      ],
      "text/plain": [
       "<IPython.core.display.Markdown object>"
      ]
     },
     "metadata": {},
     "output_type": "display_data"
    },
    {
     "data": {
      "text/markdown": [
       "<b>GID_UNK_instacrewberlin</b> [instacrewberlin@gmail.com  None] had 2 actions\n",
       "<ul>\n",
       "\t<li>2021-03-26 22:17:00 slack_announcements\n",
       "\t<li>2021-03-26 22:18:19 slack_hackathon-general\n",
       "</ul>\n"
      ],
      "text/plain": [
       "<IPython.core.display.Markdown object>"
      ]
     },
     "metadata": {},
     "output_type": "display_data"
    },
    {
     "data": {
      "text/markdown": [
       "<b>tobley</b> [  None] had 2 actions\n",
       "<ul>\n",
       "\t<li>2021-03-15 01:11:52 starred -> Repository(full_name=\"Seagate/cortx-s3server\")\n",
       "\t<li>2021-03-15 01:15:24 starred -> Repository(full_name=\"Seagate/cortx-motr\")\n",
       "</ul>\n"
      ],
      "text/plain": [
       "<IPython.core.display.Markdown object>"
      ]
     },
     "metadata": {},
     "output_type": "display_data"
    },
    {
     "data": {
      "text/markdown": [
       "<b>GID_UNK_garyo</b> [garyo@cloudian.com Cloudian External] had 2 actions\n",
       "<ul>\n",
       "\t<li>2021-03-12 14:36:54 slack_announcements\n",
       "\t<li>2021-03-12 14:36:55 slack_feedback\n",
       "</ul>\n"
      ],
      "text/plain": [
       "<IPython.core.display.Markdown object>"
      ]
     },
     "metadata": {},
     "output_type": "display_data"
    }
   ],
   "source": [
    "# print the data\n",
    "since=since.strftime('%Y-%m-%d')\n",
    "add_title(t='External CORTX Community Activity Since %s' % since)\n",
    "display(Markdown(\"<center>%d people had %d or more community actions since %s</center>\" % (len(activities),limit,since)))\n",
    "for k in sorted(activities, key=lambda k: len(activities[k]), reverse=True):\n",
    "    login = k\n",
    "    actions = activities[k]\n",
    "    person = start_person(login,len(actions),people)\n",
    "    for d,u in sorted(actions.items()):\n",
    "        person += add_action(d,u)\n",
    "    person += end_person()\n",
    "    display(Markdown(person))"
   ]
  }
 ],
 "metadata": {
  "celltoolbar": "Slideshow",
  "hide_input": false,
  "kernelspec": {
   "display_name": "Python 3",
   "language": "python",
   "name": "python3"
  },
  "language_info": {
   "codemirror_mode": {
    "name": "ipython",
    "version": 3
   },
   "file_extension": ".py",
   "mimetype": "text/x-python",
   "name": "python",
   "nbconvert_exporter": "python",
   "pygments_lexer": "ipython3",
   "version": "3.5.2"
  },
  "title": "CORTX Community Metrics Executive Report"
 },
 "nbformat": 4,
 "nbformat_minor": 4
}
