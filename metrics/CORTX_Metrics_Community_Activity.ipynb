{
 "cells": [
  {
   "cell_type": "code",
   "execution_count": 1,
   "metadata": {
    "hide_input": false,
    "scrolled": false,
    "slideshow": {
     "slide_type": "skip"
    }
   },
   "outputs": [],
   "source": [
    "import get_personal_activity as gpa\n",
    "import cortx_community as cc\n",
    "import datetime\n",
    "from IPython.display import Markdown, display, Pretty, Latex, HTML"
   ]
  },
  {
   "cell_type": "code",
   "execution_count": 44,
   "metadata": {},
   "outputs": [],
   "source": [
    "def add_title(t):\n",
    "    display(Markdown(\"<h2><center>%s</center></h2>\" % t))\n",
    "    \n",
    "def start_person(login,count,people):\n",
    "    (e,t,c)=gpa.get_info(login,people)\n",
    "    person=\"<b>%s</b> [%s %s %s] had %d actions\" % (login, e if e else '', c if c else '', t, count)\n",
    "    person+=\"\\n<ul>\\n\"\n",
    "    return person\n",
    "\n",
    "def end_person():\n",
    "    return \"</ul>\\n\"\n",
    "    \n",
    "def add_action(d,u):\n",
    "    return \"\\t<li>%s %s\\n\" % (d,u)\n",
    "    "
   ]
  },
  {
   "cell_type": "code",
   "execution_count": 45,
   "metadata": {
    "slideshow": {
     "slide_type": "skip"
    }
   },
   "outputs": [],
   "source": [
    "people=cc.CortxCommunity()\n",
    "logins='Unknown,External'\n",
    "limit=2\n",
    "(activities,all_logins)=gpa.get_activities(logins=logins,company=None,people=people)\n",
    "since=datetime.datetime.today() - datetime.timedelta(days=30)\n",
    "activities=gpa.filter_activities(activities=activities,since=since,until=None,limit=limit)\n",
    "since=since.strftime('%Y-%m-%d')"
   ]
  },
  {
   "cell_type": "code",
   "execution_count": 47,
   "metadata": {
    "scrolled": false,
    "slideshow": {
     "slide_type": "slide"
    }
   },
   "outputs": [
    {
     "data": {
      "text/markdown": [
       "<h2><center>External CORTX Community Activity Since 2021-01-04</center></h2>"
      ],
      "text/plain": [
       "<IPython.core.display.Markdown object>"
      ]
     },
     "metadata": {},
     "output_type": "display_data"
    },
    {
     "data": {
      "text/markdown": [
       "<center>17 people had 2 or more community actions since 2021-01-04</center>"
      ],
      "text/plain": [
       "<IPython.core.display.Markdown object>"
      ]
     },
     "metadata": {},
     "output_type": "display_data"
    },
    {
     "data": {
      "text/markdown": [
       "<b>GID_UNK_fozzielumpkins</b> [fozzielumpkins@gmail.com S3S External] had 14 actions\n",
       "<ul>\n",
       "\t<li>2021-02-01 12:49:50 slack_cortx-community-triage\n",
       "\t<li>2021-02-02 09:58:07 slack_general\n",
       "\t<li>2021-02-02 09:59:04 slack_general\n",
       "\t<li>2021-02-02 09:59:53 slack_github-cortx\n",
       "\t<li>2021-02-02 10:11:40 slack_general\n",
       "\t<li>2021-02-02 10:17:34 slack_cortx-get-started\n",
       "\t<li>2021-02-02 10:18:30 slack_cortx-get-started\n",
       "\t<li>2021-02-02 10:20:22 slack_cortx-get-started\n",
       "\t<li>2021-02-02 10:26:31 slack_cortx-get-started\n",
       "\t<li>2021-02-02 10:52:33 slack_cortx-get-started\n",
       "\t<li>2021-02-02 16:49:18 slack_cortx-get-started\n",
       "\t<li>2021-02-02 16:50:05 slack_cortx-get-started\n",
       "\t<li>2021-02-02 16:51:55 slack_cortx-get-started\n",
       "\t<li>2021-02-02 16:54:27 slack_cortx-get-started\n",
       "</ul>\n"
      ],
      "text/plain": [
       "<IPython.core.display.Markdown object>"
      ]
     },
     "metadata": {},
     "output_type": "display_data"
    },
    {
     "data": {
      "text/markdown": [
       "<b>GID_UNK_dorian.hoxha</b> [dorian.hoxha@gmail.com Yugabyte External] had 8 actions\n",
       "<ul>\n",
       "\t<li>2021-01-05 09:26:23 slack_cortx-ha\n",
       "\t<li>2021-01-05 09:26:26 slack_cortx-hare\n",
       "\t<li>2021-01-05 09:26:27 slack_cortx-manager\n",
       "\t<li>2021-01-05 09:26:30 slack_cortx-motr-client\n",
       "\t<li>2021-01-05 09:26:32 slack_cortx-pm\n",
       "\t<li>2021-01-05 09:26:34 slack_cortx-provisioner\n",
       "\t<li>2021-01-05 09:26:38 slack_cortx-prvsnr\n",
       "\t<li>2021-01-05 09:26:46 slack_devops\n",
       "</ul>\n"
      ],
      "text/plain": [
       "<IPython.core.display.Markdown object>"
      ]
     },
     "metadata": {},
     "output_type": "display_data"
    },
    {
     "data": {
      "text/markdown": [
       "<b>GID_UNK_david.mafazi</b> [david.mafazi@outlook.co.id  None] had 5 actions\n",
       "<ul>\n",
       "\t<li>2021-02-01 01:08:39 slack_cortx-community-triage\n",
       "\t<li>2021-02-01 01:08:40 slack_general\n",
       "\t<li>2021-02-01 19:06:22 slack_random\n",
       "\t<li>2021-02-01 19:06:25 slack_devops\n",
       "\t<li>2021-02-01 19:06:29 slack_github-cortx\n",
       "</ul>\n"
      ],
      "text/plain": [
       "<IPython.core.display.Markdown object>"
      ]
     },
     "metadata": {},
     "output_type": "display_data"
    },
    {
     "data": {
      "text/markdown": [
       "<b>GID_UNK_tdavis</b> [tdavis@deepspacestorage.com  None] had 4 actions\n",
       "<ul>\n",
       "\t<li>2021-01-22 11:18:59 slack_cortx-motr\n",
       "\t<li>2021-01-22 11:19:00 slack_general\n",
       "\t<li>2021-01-22 12:22:00 slack_cortx-s3\n",
       "\t<li>2021-01-23 12:03:14 slack_cortx-s3\n",
       "</ul>\n"
      ],
      "text/plain": [
       "<IPython.core.display.Markdown object>"
      ]
     },
     "metadata": {},
     "output_type": "display_data"
    },
    {
     "data": {
      "text/markdown": [
       "<b>daniarherikurniawan</b> [daniar@uchicago.edu UChicago External] had 4 actions\n",
       "<ul>\n",
       "\t<li>2021-01-23 11:26:50 slack_cortx-hare\n",
       "\t<li>2021-01-25 10:00:01 slack_cortx-hare\n",
       "\t<li>2021-01-25 10:00:02 slack_cortx-hare\n",
       "\t<li>2021-01-25 10:09:42 slack_cortx-motr\n",
       "</ul>\n"
      ],
      "text/plain": [
       "<IPython.core.display.Markdown object>"
      ]
     },
     "metadata": {},
     "output_type": "display_data"
    },
    {
     "data": {
      "text/markdown": [
       "<b>xuning97</b> [ CCB External] had 3 actions\n",
       "<ul>\n",
       "\t<li>2021-01-29 02:03:40 fork -> xuning97/cortx-motr\n",
       "\t<li>2021-01-29 02:06:23 https://github.com/Seagate/cortx-motr/pull/372\n",
       "\t<li>2021-01-30 17:34:36 https://github.com/Seagate/cortx-motr/commit/4b3f850bc971a9570190c8b8b5c4d26bdf3c4790\n",
       "</ul>\n"
      ],
      "text/plain": [
       "<IPython.core.display.Markdown object>"
      ]
     },
     "metadata": {},
     "output_type": "display_data"
    },
    {
     "data": {
      "text/markdown": [
       "<b>raikrahul</b> [https://www.linkedin.com/in/raikrahul/  External] had 3 actions\n",
       "<ul>\n",
       "\t<li>2021-01-29 17:06:22 fork -> raikrahul/cortx-utils\n",
       "\t<li>2021-01-29 17:07:13 https://github.com/Seagate/cortx-utils/issues/175\n",
       "\t<li>2021-01-29 17:11:27 https://github.com/Seagate/cortx-experiments/issues/47\n",
       "</ul>\n"
      ],
      "text/plain": [
       "<IPython.core.display.Markdown object>"
      ]
     },
     "metadata": {},
     "output_type": "display_data"
    },
    {
     "data": {
      "text/markdown": [
       "<b>GID_UNK_yutesh1999</b> [yutesh1999@gmail.com  None] had 2 actions\n",
       "<ul>\n",
       "\t<li>2021-01-28 03:47:01 slack_cortx-community-triage\n",
       "\t<li>2021-01-28 03:47:02 slack_cortx-get-started\n",
       "</ul>\n"
      ],
      "text/plain": [
       "<IPython.core.display.Markdown object>"
      ]
     },
     "metadata": {},
     "output_type": "display_data"
    },
    {
     "data": {
      "text/markdown": [
       "<b>GID_UNK_rolweber</b> [rolweber@pt.lu  None] had 2 actions\n",
       "<ul>\n",
       "\t<li>2021-01-05 06:21:22 slack_cortx-motr\n",
       "\t<li>2021-01-05 06:22:36 slack_cortx-get-started\n",
       "</ul>\n"
      ],
      "text/plain": [
       "<IPython.core.display.Markdown object>"
      ]
     },
     "metadata": {},
     "output_type": "display_data"
    },
    {
     "data": {
      "text/markdown": [
       "<b>GID_UNK_wtchen</b> [wtchen@uchicago.edu  External] had 2 actions\n",
       "<ul>\n",
       "\t<li>2021-01-21 14:18:45 slack_cortx-community-triage\n",
       "\t<li>2021-01-21 14:18:46 slack_general\n",
       "</ul>\n"
      ],
      "text/plain": [
       "<IPython.core.display.Markdown object>"
      ]
     },
     "metadata": {},
     "output_type": "display_data"
    },
    {
     "data": {
      "text/markdown": [
       "<b>daltonbohning</b> [daltonbohning@gmail.com  None] had 2 actions\n",
       "<ul>\n",
       "\t<li>2021-01-20 16:14:31 https://github.com/Seagate/cortx-experiments/issues/41\n",
       "\t<li>2021-01-20 16:15:37 https://github.com/Seagate/cortx-experiments/issues/41#issuecomment-763745332\n",
       "</ul>\n"
      ],
      "text/plain": [
       "<IPython.core.display.Markdown object>"
      ]
     },
     "metadata": {},
     "output_type": "display_data"
    },
    {
     "data": {
      "text/markdown": [
       "<b>GID_UNK_vinoth.ramalingam</b> [vinoth.ramalingam@seagate.com  None] had 2 actions\n",
       "<ul>\n",
       "\t<li>2021-01-25 09:06:39 slack_announcements\n",
       "\t<li>2021-01-25 09:06:40 slack_general\n",
       "</ul>\n"
      ],
      "text/plain": [
       "<IPython.core.display.Markdown object>"
      ]
     },
     "metadata": {},
     "output_type": "display_data"
    },
    {
     "data": {
      "text/markdown": [
       "<b>GID_UNK_13518085</b> [13518085@std.stei.itb.ac.id  None] had 2 actions\n",
       "<ul>\n",
       "\t<li>2021-01-14 07:37:46 slack_feedback\n",
       "\t<li>2021-01-14 07:37:47 slack_general\n",
       "</ul>\n"
      ],
      "text/plain": [
       "<IPython.core.display.Markdown object>"
      ]
     },
     "metadata": {},
     "output_type": "display_data"
    },
    {
     "data": {
      "text/markdown": [
       "<b>GID_UNK_shiji.zhang</b> [shiji.zhang@tusimple.ai  None] had 2 actions\n",
       "<ul>\n",
       "\t<li>2021-01-13 21:40:19 slack_cortx-get-started\n",
       "\t<li>2021-01-14 05:14:14 slack_general\n",
       "</ul>\n"
      ],
      "text/plain": [
       "<IPython.core.display.Markdown object>"
      ]
     },
     "metadata": {},
     "output_type": "display_data"
    },
    {
     "data": {
      "text/markdown": [
       "<b>GID_UNK_dave.kluger</b> [dave.kluger@storcom.net  External] had 2 actions\n",
       "<ul>\n",
       "\t<li>2021-01-26 13:02:13 slack_announcements\n",
       "\t<li>2021-01-26 13:02:14 slack_general\n",
       "</ul>\n"
      ],
      "text/plain": [
       "<IPython.core.display.Markdown object>"
      ]
     },
     "metadata": {},
     "output_type": "display_data"
    },
    {
     "data": {
      "text/markdown": [
       "<b>GID_UNK_bal</b> [bal@mactores.com  External] had 2 actions\n",
       "<ul>\n",
       "\t<li>2021-01-19 17:15:55 slack_announcements\n",
       "\t<li>2021-01-19 17:15:56 slack_feedback\n",
       "</ul>\n"
      ],
      "text/plain": [
       "<IPython.core.display.Markdown object>"
      ]
     },
     "metadata": {},
     "output_type": "display_data"
    },
    {
     "data": {
      "text/markdown": [
       "<b>GID_UNK_surajn222</b> [surajn222@gmail.com  None] had 2 actions\n",
       "<ul>\n",
       "\t<li>2021-01-19 23:43:11 slack_cortx-community-triage\n",
       "\t<li>2021-01-19 23:43:12 slack_cortx-s3\n",
       "</ul>\n"
      ],
      "text/plain": [
       "<IPython.core.display.Markdown object>"
      ]
     },
     "metadata": {},
     "output_type": "display_data"
    }
   ],
   "source": [
    "add_title(t='External CORTX Community Activity Since %s' % since)\n",
    "display(Markdown(\"<center>%d people had %d or more community actions since %s</center>\" % (len(activities),limit,since)))\n",
    "for k in sorted(activities, key=lambda k: len(activities[k]), reverse=True):\n",
    "    login = k\n",
    "    actions = activities[k]\n",
    "    (e,t,c)=gpa.get_info(login,people)\n",
    "    person = start_person(login,len(actions),people)\n",
    "    for d,u in sorted(actions.items()):\n",
    "        person += add_action(d,u)\n",
    "    person += end_person()\n",
    "    display(Markdown(person))\n",
    "    \n",
    "\n"
   ]
  },
  {
   "cell_type": "code",
   "execution_count": null,
   "metadata": {},
   "outputs": [],
   "source": []
  }
 ],
 "metadata": {
  "celltoolbar": "Slideshow",
  "hide_input": false,
  "kernelspec": {
   "display_name": "Python 3",
   "language": "python",
   "name": "python3"
  },
  "language_info": {
   "codemirror_mode": {
    "name": "ipython",
    "version": 3
   },
   "file_extension": ".py",
   "mimetype": "text/x-python",
   "name": "python",
   "nbconvert_exporter": "python",
   "pygments_lexer": "ipython3",
   "version": "3.5.2"
  },
  "title": "CORTX Community Metrics Executive Report"
 },
 "nbformat": 4,
 "nbformat_minor": 4
}
